{
  "cells": [
    {
      "cell_type": "markdown",
      "metadata": {
        "id": "view-in-github",
        "colab_type": "text"
      },
      "source": [
        "<a href=\"https://colab.research.google.com/github/LoredoJ08/mcd_dm_jlg/blob/main/Tarea_2.ipynb\" target=\"_parent\"><img src=\"https://colab.research.google.com/assets/colab-badge.svg\" alt=\"Open In Colab\"/></a>"
      ]
    },
    {
      "cell_type": "markdown",
      "metadata": {
        "id": "IZTxdkhBjaU1"
      },
      "source": [
        "### Tarea 2 (10 puntos). Operaciones con RDDs\n",
        "\n",
        "- Obtener información de algún origen de datos (propio o de API)\n",
        "- Convertir el origen de datos a RDD con PySpark\n",
        "- Realizar alguna operación en el RDD, como estadísticas descriptivas\n",
        "  básicas\n",
        "- Subir la práctica a un repositorio público y etiquetarla claramente\n"
      ]
    },
    {
      "cell_type": "markdown",
      "metadata": {
        "id": "jhePtOU2jY10"
      },
      "source": []
    },
    {
      "cell_type": "code",
      "execution_count": 1,
      "metadata": {
        "colab": {
          "base_uri": "https://localhost:8080/"
        },
        "id": "odVjO4HWjPWA",
        "outputId": "e1d62de0-6b94-478a-8095-2caa019b7fbf"
      },
      "outputs": [
        {
          "output_type": "stream",
          "name": "stdout",
          "text": [
            "Get:1 https://cloud.r-project.org/bin/linux/ubuntu jammy-cran40/ InRelease [3,626 B]\n",
            "Hit:2 https://developer.download.nvidia.com/compute/cuda/repos/ubuntu2204/x86_64  InRelease\n",
            "Get:3 http://security.ubuntu.com/ubuntu jammy-security InRelease [129 kB]\n",
            "Hit:4 http://archive.ubuntu.com/ubuntu jammy InRelease\n",
            "Ign:5 https://r2u.stat.illinois.edu/ubuntu jammy InRelease\n",
            "Get:6 http://archive.ubuntu.com/ubuntu jammy-updates InRelease [128 kB]\n",
            "Get:7 https://r2u.stat.illinois.edu/ubuntu jammy Release [5,713 B]\n",
            "Hit:8 https://ppa.launchpadcontent.net/deadsnakes/ppa/ubuntu jammy InRelease\n",
            "Get:9 https://r2u.stat.illinois.edu/ubuntu jammy Release.gpg [793 B]\n",
            "Hit:10 https://ppa.launchpadcontent.net/graphics-drivers/ppa/ubuntu jammy InRelease\n",
            "Hit:11 https://ppa.launchpadcontent.net/ubuntugis/ppa/ubuntu jammy InRelease\n",
            "Get:12 http://archive.ubuntu.com/ubuntu jammy-backports InRelease [127 kB]\n",
            "Get:13 https://r2u.stat.illinois.edu/ubuntu jammy/main amd64 Packages [2,590 kB]\n",
            "Get:14 http://security.ubuntu.com/ubuntu jammy-security/universe amd64 Packages [1,159 kB]\n",
            "Get:15 http://archive.ubuntu.com/ubuntu jammy-updates/main amd64 Packages [2,596 kB]\n",
            "Get:16 http://security.ubuntu.com/ubuntu jammy-security/main amd64 Packages [2,318 kB]\n",
            "Get:17 https://r2u.stat.illinois.edu/ubuntu jammy/main all Packages [8,372 kB]\n",
            "Get:18 http://archive.ubuntu.com/ubuntu jammy-updates/universe amd64 Packages [1,447 kB]\n",
            "Fetched 18.9 MB in 6s (3,025 kB/s)\n",
            "Reading package lists... Done\n",
            "Building dependency tree... Done\n",
            "Reading state information... Done\n",
            "54 packages can be upgraded. Run 'apt list --upgradable' to see them.\n",
            "\u001b[1;33mW: \u001b[0mSkipping acquire of configured file 'main/source/Sources' as repository 'https://r2u.stat.illinois.edu/ubuntu jammy InRelease' does not seem to provide it (sources.list entry misspelt?)\u001b[0m\n",
            "Collecting pyspark\n",
            "  Downloading pyspark-3.5.3.tar.gz (317.3 MB)\n",
            "\u001b[2K     \u001b[90m━━━━━━━━━━━━━━━━━━━━━━━━━━━━━━━━━━━━━━━━\u001b[0m \u001b[32m317.3/317.3 MB\u001b[0m \u001b[31m4.7 MB/s\u001b[0m eta \u001b[36m0:00:00\u001b[0m\n",
            "\u001b[?25h  Preparing metadata (setup.py) ... \u001b[?25l\u001b[?25hdone\n",
            "Requirement already satisfied: py4j==0.10.9.7 in /usr/local/lib/python3.10/dist-packages (from pyspark) (0.10.9.7)\n",
            "Building wheels for collected packages: pyspark\n",
            "  Building wheel for pyspark (setup.py) ... \u001b[?25l\u001b[?25hdone\n",
            "  Created wheel for pyspark: filename=pyspark-3.5.3-py2.py3-none-any.whl size=317840625 sha256=cf449028dad098764bf828d5a87033a03f39fa5c5d80db97cd89aa88d1923723\n",
            "  Stored in directory: /root/.cache/pip/wheels/1b/3a/92/28b93e2fbfdbb07509ca4d6f50c5e407f48dce4ddbda69a4ab\n",
            "Successfully built pyspark\n",
            "Installing collected packages: pyspark\n",
            "Successfully installed pyspark-3.5.3\n",
            "Requirement already satisfied: py4j in /usr/local/lib/python3.10/dist-packages (0.10.9.7)\n"
          ]
        }
      ],
      "source": [
        "#- Instalar en un entorno local o ejecutar Spark en algún servidor en línea (como Google Colab)\n",
        "!sudo apt update\n",
        "!apt-get install openjdk-8-jdk-headless -qq > /dev/null\n",
        "#Check this site for the latest download link https://www.apache.org/dyn/closer.lua/spark/spark-3.2.1/spark-3.2.1-bin-hadoop3.2.tgz\n",
        "!wget -q https://archive.apache.org/dist/spark/spark-3.2.1/spark-3.2.1-bin-hadoop3.2.tgz\n",
        "!tar xf spark-3.2.1-bin-hadoop3.2.tgz\n",
        "!pip install -q findspark\n",
        "!pip install pyspark\n",
        "!pip install py4j\n",
        "\n",
        "import os\n",
        "import sys\n",
        "\n",
        "import findspark\n",
        "findspark.init()\n",
        "findspark.find()\n",
        "\n",
        "import pyspark\n",
        "\n",
        "from pyspark.sql import DataFrame, SparkSession\n",
        "from typing import List\n",
        "import pyspark.sql.types as T\n",
        "import pyspark.sql.functions as F\n",
        "\n",
        "\n",
        "spark= SparkSession.builder.appName(\"Intento 1: Spark\").getOrCreate()\n",
        "\n",
        "#https://github.com/LoredoJ08/mcd_dm_jlg.git"
      ]
    },
    {
      "cell_type": "code",
      "source": [
        "import os\n",
        "import urllib.request\n"
      ],
      "metadata": {
        "id": "U_MxsZ66iDnJ"
      },
      "execution_count": 2,
      "outputs": []
    },
    {
      "cell_type": "code",
      "execution_count": 3,
      "metadata": {
        "colab": {
          "base_uri": "https://localhost:8080/"
        },
        "id": "U9LjX2uQPgUx",
        "outputId": "3d6bf6d3-37a9-404f-89b1-17212991847e"
      },
      "outputs": [
        {
          "output_type": "stream",
          "name": "stdout",
          "text": [
            "+--------------------+---------------+--------------+--------------+---------------------+--------------+---+---+-----------------+--------------+--------------+------------------+-------------------+--------------------+---------+---------------------+--------------+-------------------+----------------------+---------------+-----------------------------+-----------------+----------------------------+-----------------+------------------+-------------------------+-------------------+---------------+------------------------+--------------------+-----------------------+---------------+------------+--------------------+\n",
            "|              Target|Genetic Markers|Autoantibodies|Family History|Environmental Factors|Insulin Levels|Age|BMI|Physical Activity|Dietary Habits|Blood Pressure|Cholesterol Levels|Waist Circumference|Blood Glucose Levels|Ethnicity|Socioeconomic Factors|Smoking Status|Alcohol Consumption|Glucose Tolerance Test|History of PCOS|Previous Gestational Diabetes|Pregnancy History|Weight Gain During Pregnancy|Pancreatic Health|Pulmonary Function|Cystic Fibrosis Diagnosis|Steroid Use History|Genetic Testing|Neurological Assessments|Liver Function Tests|Digestive Enzyme Levels|     Urine Test|Birth Weight|Early Onset Symptoms|\n",
            "+--------------------+---------------+--------------+--------------+---------------------+--------------+---+---+-----------------+--------------+--------------+------------------+-------------------+--------------------+---------+---------------------+--------------+-------------------+----------------------+---------------+-----------------------------+-----------------+----------------------------+-----------------+------------------+-------------------------+-------------------+---------------+------------------------+--------------------+-----------------------+---------------+------------+--------------------+\n",
            "|Steroid-Induced D...|       Positive|      Negative|            No|              Present|            40| 44| 38|             High|       Healthy|           124|               201|                 50|                 168| Low Risk|               Medium|        Smoker|               High|                Normal|             No|                           No|           Normal|                          18|               36|                76|                       No|                 No|       Positive|                       3|              Normal|                     56|Ketones Present|        2629|                  No|\n",
            "|Neonatal Diabetes...|       Positive|      Negative|            No|              Present|            13|  1| 17|             High|       Healthy|            73|               121|                 24|                 178| Low Risk|                 High|    Non-Smoker|           Moderate|                Normal|            Yes|                           No|           Normal|                           8|               26|                60|                      Yes|                 No|       Negative|                       1|              Normal|                     28|Glucose Present|        1881|                 Yes|\n",
            "|         Prediabetic|       Positive|      Positive|           Yes|              Present|            27| 36| 24|             High|     Unhealthy|           121|               185|                 36|                 105| Low Risk|               Medium|        Smoker|               High|              Abnormal|            Yes|                           No|           Normal|                          15|               56|                80|                      Yes|                 No|       Negative|                       1|            Abnormal|                     55|Ketones Present|        3622|                 Yes|\n",
            "|     Type 1 Diabetes|       Negative|      Positive|            No|              Present|             8|  7| 16|              Low|     Unhealthy|           100|               151|                 29|                 121| Low Risk|                 High|        Smoker|           Moderate|              Abnormal|             No|                          Yes|           Normal|                          12|               49|                89|                      Yes|                 No|       Positive|                       2|            Abnormal|                     60|Ketones Present|        3542|                  No|\n",
            "|    Wolfram Syndrome|       Negative|      Negative|           Yes|              Present|            17| 10| 17|             High|       Healthy|           103|               146|                 33|                 289| Low Risk|                  Low|        Smoker|           Moderate|                Normal|             No|                          Yes|    Complications|                           2|               10|                41|                       No|                 No|       Positive|                       1|              Normal|                     24|Protein Present|        1770|                  No|\n",
            "|                LADA|       Positive|      Negative|           Yes|              Present|            17| 41| 26|         Moderate|       Healthy|           127|               208|                 32|                 142| Low Risk|                  Low|    Non-Smoker|                Low|              Abnormal|             No|                           No|           Normal|                          11|               40|                85|                      Yes|                 No|       Negative|                       2|              Normal|                     52|Ketones Present|        3835|                 Yes|\n",
            "|     Type 2 Diabetes|       Negative|      Negative|            No|               Absent|            29| 30| 31|         Moderate|       Healthy|           115|               237|                 43|                 186|High Risk|                 High|    Non-Smoker|                Low|                Normal|             No|                          Yes|           Normal|                          15|               62|                64|                      Yes|                Yes|       Negative|                       3|            Abnormal|                     96|Ketones Present|        4426|                  No|\n",
            "|Wolcott-Rallison ...|       Positive|      Negative|            No|               Absent|            10|  3| 18|              Low|     Unhealthy|            80|               157|                 29|                 206|High Risk|                  Low|        Smoker|                Low|                Normal|            Yes|                          Yes|           Normal|                           4|               13|                44|                      Yes|                 No|       Negative|                       1|              Normal|                     29|Ketones Present|        1644|                 Yes|\n",
            "|  Secondary Diabetes|       Negative|      Positive|            No|               Absent|            47| 47| 25|             High|       Healthy|           138|               185|                 40|                 160| Low Risk|                 High|        Smoker|                Low|                Normal|             No|                           No|    Complications|                          30|               91|                71|                       No|                Yes|       Positive|                       3|              Normal|                     74|Ketones Present|        3721|                  No|\n",
            "|  Secondary Diabetes|       Positive|      Negative|           Yes|              Present|            21| 72| 24|              Low|     Unhealthy|           136|               259|                 36|                 192|High Risk|                 High|    Non-Smoker|                Low|              Abnormal|             No|                           No|           Normal|                          33|               86|                69|                      Yes|                Yes|       Positive|                       2|            Abnormal|                     42|Protein Present|        4206|                  No|\n",
            "|  Secondary Diabetes|       Negative|      Positive|            No|              Present|            16| 67| 29|              Low|       Healthy|           134|               193|                 42|                 192|High Risk|               Medium|    Non-Smoker|                Low|              Abnormal|             No|                           No|           Normal|                          37|               64|                75|                       No|                 No|       Negative|                       3|              Normal|                     59|Glucose Present|        3965|                  No|\n",
            "|     Type 1 Diabetes|       Positive|      Negative|            No|               Absent|             8| 29| 23|              Low|     Unhealthy|            91|               195|                 33|                 114|High Risk|                  Low|        Smoker|           Moderate|              Abnormal|            Yes|                           No|    Complications|                          24|               67|                75|                       No|                 No|       Negative|                       1|            Abnormal|                     60|Ketones Present|        2947|                  No|\n",
            "|         Prediabetic|       Positive|      Negative|            No|               Absent|            22| 59| 28|              Low|       Healthy|           128|               191|                 32|                 113| Low Risk|               Medium|        Smoker|           Moderate|                Normal|             No|                           No|           Normal|                          24|               63|                73|                      Yes|                Yes|       Positive|                       1|            Abnormal|                     76|         Normal|        3588|                  No|\n",
            "|Neonatal Diabetes...|       Positive|      Positive|            No|              Present|             9|  0| 19|              Low|     Unhealthy|            71|               126|                 20|                 175| Low Risk|               Medium|    Non-Smoker|           Moderate|                Normal|            Yes|                           No|    Complications|                           1|               16|                56|                       No|                Yes|       Negative|                       1|              Normal|                     29|Glucose Present|        2202|                  No|\n",
            "|                LADA|       Negative|      Negative|            No|               Absent|            21| 45| 22|         Moderate|       Healthy|           116|               163|                 42|                 136|High Risk|                 High|    Non-Smoker|               High|              Abnormal|             No|                          Yes|           Normal|                           6|               76|                76|                       No|                 No|       Positive|                       2|              Normal|                     43|Protein Present|        2984|                  No|\n",
            "|Steroid-Induced D...|       Positive|      Negative|           Yes|              Present|            38| 53| 37|              Low|     Unhealthy|           128|               260|                 41|                 200|High Risk|                  Low|    Non-Smoker|                Low|              Abnormal|             No|                           No|    Complications|                          16|               75|                60|                       No|                Yes|       Negative|                       2|              Normal|                     53|         Normal|        4239|                  No|\n",
            "|                LADA|       Negative|      Negative|            No|               Absent|            14| 36| 31|             High|     Unhealthy|           106|               153|                 37|                 132| Low Risk|                 High|    Non-Smoker|           Moderate|                Normal|             No|                          Yes|    Complications|                          19|               65|                87|                      Yes|                 No|       Positive|                       2|              Normal|                     56|Protein Present|        2620|                 Yes|\n",
            "|Neonatal Diabetes...|       Positive|      Negative|            No|              Present|            12|  1| 17|         Moderate|     Unhealthy|            67|               144|                 22|                 168|High Risk|                 High|    Non-Smoker|           Moderate|                Normal|             No|                           No|           Normal|                           2|               13|                70|                      Yes|                 No|       Positive|                       1|              Normal|                     13|Ketones Present|        1523|                  No|\n",
            "|Type 3c Diabetes ...|       Positive|      Negative|            No|              Present|            30| 60| 32|         Moderate|       Healthy|           149|               239|                 48|                 190|High Risk|               Medium|        Smoker|               High|                Normal|             No|                          Yes|           Normal|                          28|               38|                62|                      Yes|                Yes|       Negative|                       3|            Abnormal|                     41|         Normal|        4335|                  No|\n",
            "|     Type 1 Diabetes|       Negative|      Positive|           Yes|              Present|            19| 16| 18|              Low|     Unhealthy|           102|               165|                 30|                 126|High Risk|               Medium|    Non-Smoker|               High|              Abnormal|            Yes|                           No|           Normal|                          24|               41|                71|                      Yes|                 No|       Positive|                       2|            Abnormal|                     44|Ketones Present|        2940|                  No|\n",
            "+--------------------+---------------+--------------+--------------+---------------------+--------------+---+---+-----------------+--------------+--------------+------------------+-------------------+--------------------+---------+---------------------+--------------+-------------------+----------------------+---------------+-----------------------------+-----------------+----------------------------+-----------------+------------------+-------------------------+-------------------+---------------+------------------------+--------------------+-----------------------+---------------+------------+--------------------+\n",
            "only showing top 20 rows\n",
            "\n"
          ]
        }
      ],
      "source": [
        "url = 'https://raw.githubusercontent.com/LoredoJ08/mcd_dm_jlg/main/Tarea%201/diabetes_dataset00.csv'\n",
        "file_name = 'diabetes_dataset00.csv'\n",
        "\n",
        "# CSV\n",
        "urllib.request.urlretrieve(url, file_name)\n",
        "df_spark = spark.read.csv(file_name, header=True, inferSchema=True)\n",
        "df_spark.show()\n"
      ]
    },
    {
      "cell_type": "code",
      "execution_count": 4,
      "metadata": {
        "id": "wZ2TgPr0QslY",
        "colab": {
          "base_uri": "https://localhost:8080/"
        },
        "outputId": "44865b7c-d139-46e8-9eb2-ec3855442888"
      },
      "outputs": [
        {
          "output_type": "stream",
          "name": "stdout",
          "text": [
            "root\n",
            " |-- Target: string (nullable = true)\n",
            " |-- Genetic Markers: string (nullable = true)\n",
            " |-- Autoantibodies: string (nullable = true)\n",
            " |-- Family History: string (nullable = true)\n",
            " |-- Environmental Factors: string (nullable = true)\n",
            " |-- Insulin Levels: integer (nullable = true)\n",
            " |-- Age: integer (nullable = true)\n",
            " |-- BMI: integer (nullable = true)\n",
            " |-- Physical Activity: string (nullable = true)\n",
            " |-- Dietary Habits: string (nullable = true)\n",
            " |-- Blood Pressure: integer (nullable = true)\n",
            " |-- Cholesterol Levels: integer (nullable = true)\n",
            " |-- Waist Circumference: integer (nullable = true)\n",
            " |-- Blood Glucose Levels: integer (nullable = true)\n",
            " |-- Ethnicity: string (nullable = true)\n",
            " |-- Socioeconomic Factors: string (nullable = true)\n",
            " |-- Smoking Status: string (nullable = true)\n",
            " |-- Alcohol Consumption: string (nullable = true)\n",
            " |-- Glucose Tolerance Test: string (nullable = true)\n",
            " |-- History of PCOS: string (nullable = true)\n",
            " |-- Previous Gestational Diabetes: string (nullable = true)\n",
            " |-- Pregnancy History: string (nullable = true)\n",
            " |-- Weight Gain During Pregnancy: integer (nullable = true)\n",
            " |-- Pancreatic Health: integer (nullable = true)\n",
            " |-- Pulmonary Function: integer (nullable = true)\n",
            " |-- Cystic Fibrosis Diagnosis: string (nullable = true)\n",
            " |-- Steroid Use History: string (nullable = true)\n",
            " |-- Genetic Testing: string (nullable = true)\n",
            " |-- Neurological Assessments: integer (nullable = true)\n",
            " |-- Liver Function Tests: string (nullable = true)\n",
            " |-- Digestive Enzyme Levels: integer (nullable = true)\n",
            " |-- Urine Test: string (nullable = true)\n",
            " |-- Birth Weight: integer (nullable = true)\n",
            " |-- Early Onset Symptoms: string (nullable = true)\n",
            "\n"
          ]
        }
      ],
      "source": [
        "# Mostrar el esquema de los datos\n",
        "df_spark.printSchema()\n"
      ]
    },
    {
      "cell_type": "code",
      "execution_count": 5,
      "metadata": {
        "id": "Ru5z3rbJQ0y8"
      },
      "outputs": [],
      "source": [
        "# Convertir DataFrame a RDD\n",
        "rdd = df_spark.rdd\n",
        "\n",
        "# Seleccionar columnas 'Blood Glucose Levels' y 'BMI'\n",
        "rdd_glucose_bmi = df_spark.select('Blood Glucose Levels', 'BMI').rdd\n",
        "\n"
      ]
    },
    {
      "cell_type": "code",
      "execution_count": 9,
      "metadata": {
        "id": "9LPUW9OOQ8zF",
        "colab": {
          "base_uri": "https://localhost:8080/"
        },
        "outputId": "9f22d8e7-a6c4-4f8f-e230-ce67df2ccd58"
      },
      "outputs": [
        {
          "output_type": "stream",
          "name": "stdout",
          "text": [
            "Niveles de glucosa - Count: 70000, Mean: 160.70165714285713, Variance: 2319.886820111044\n",
            "BMI - Count: 70000, Mean: 24.782942857142856, Variance: 36.170514768162185\n"
          ]
        }
      ],
      "source": [
        "# Convertir RDD de columnas a valores\n",
        "rdd_glucose_bmi_clean = rdd_glucose_bmi.map(lambda row: (float(row['Blood Glucose Levels']), float(row['BMI']))) \\\n",
        "                                       .filter(lambda x: x[0] is not None and x[1] is not None)\n",
        "\n",
        "# 1.-transformamos los datos\n",
        "rdd_glucose = rdd_glucose_bmi_clean.map(lambda x: x[0])\n",
        "rdd_bmi = rdd_glucose_bmi_clean.map(lambda x: x[1])\n",
        "\n",
        "#datos en lista\n",
        "glucose_data = rdd_glucose.collect()\n",
        "bmi_data = rdd_bmi.collect()\n",
        "\n",
        "#calcular las estadísticas\n",
        "def calculate_manual_stats(data):\n",
        "    count = len(data)\n",
        "    total = sum(data)\n",
        "    mean = total / count\n",
        "\n",
        "    sum_squared_diff = sum((x - mean) ** 2 for x in data)\n",
        "    variance = sum_squared_diff / count\n",
        "\n",
        "    return count, mean, variance\n",
        "\n",
        "#estadísticas para los niveles de glucosa y BMI (indice de masa corporal)\n",
        "glucose_stats = calculate_manual_stats(glucose_data)\n",
        "bmi_stats = calculate_manual_stats(bmi_data)\n",
        "\n",
        "\n",
        "print(f\"Niveles de glucosa - Count: {glucose_stats[0]}, Mean: {glucose_stats[1]}, Variance: {glucose_stats[2]}\")\n",
        "print(f\"BMI - Count: {bmi_stats[0]}, Mean: {bmi_stats[1]}, Variance: {bmi_stats[2]}\")\n"
      ]
    }
  ],
  "metadata": {
    "colab": {
      "provenance": [],
      "authorship_tag": "ABX9TyNaqQvh6cnHXxvJDe9MVCZG",
      "include_colab_link": true
    },
    "kernelspec": {
      "display_name": "Python 3",
      "name": "python3"
    },
    "language_info": {
      "name": "python"
    }
  },
  "nbformat": 4,
  "nbformat_minor": 0
}