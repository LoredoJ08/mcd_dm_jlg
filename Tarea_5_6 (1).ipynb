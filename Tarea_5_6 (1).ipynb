{
  "nbformat": 4,
  "nbformat_minor": 0,
  "metadata": {
    "colab": {
      "provenance": []
    },
    "kernelspec": {
      "name": "python3",
      "display_name": "Python 3"
    },
    "language_info": {
      "name": "python"
    }
  },
  "cells": [
    {
      "cell_type": "markdown",
      "source": [
        "## Tarea 5 y 6 (10 puntos c/u)\n",
        "- Realizar análisis con MLlib de pyspark a tu conjunto de datos.\n",
        "- Sube un reporte y tu código a tu repositorio.\n",
        "- Presentar en la siguiente los hallazgos de tu tarea.\n",
        "- Máximo 12 min de exposición por participante."
      ],
      "metadata": {
        "id": "Z2hvyPmHTBGZ"
      }
    },
    {
      "cell_type": "code",
      "source": [],
      "metadata": {
        "id": "w-anGBqjTNYD"
      },
      "execution_count": null,
      "outputs": []
    },
    {
      "cell_type": "code",
      "execution_count": 1,
      "metadata": {
        "id": "oq_vxbQf6BOQ",
        "colab": {
          "base_uri": "https://localhost:8080/"
        },
        "outputId": "2ea7db87-98ce-46c5-ff6c-d77a8c104723"
      },
      "outputs": [
        {
          "output_type": "stream",
          "name": "stdout",
          "text": [
            "\u001b[33m\r0% [Working]\u001b[0m\r            \rGet:1 https://cloud.r-project.org/bin/linux/ubuntu jammy-cran40/ InRelease [3,626 B]\n",
            "Hit:2 https://developer.download.nvidia.com/compute/cuda/repos/ubuntu2204/x86_64  InRelease\n",
            "Hit:3 http://archive.ubuntu.com/ubuntu jammy InRelease\n",
            "Get:4 http://security.ubuntu.com/ubuntu jammy-security InRelease [129 kB]\n",
            "Get:5 https://r2u.stat.illinois.edu/ubuntu jammy InRelease [6,555 B]\n",
            "Get:6 http://archive.ubuntu.com/ubuntu jammy-updates InRelease [128 kB]\n",
            "Hit:7 https://ppa.launchpadcontent.net/deadsnakes/ppa/ubuntu jammy InRelease\n",
            "Hit:8 https://ppa.launchpadcontent.net/graphics-drivers/ppa/ubuntu jammy InRelease\n",
            "Hit:9 https://ppa.launchpadcontent.net/ubuntugis/ppa/ubuntu jammy InRelease\n",
            "Get:10 http://archive.ubuntu.com/ubuntu jammy-backports InRelease [127 kB]\n",
            "Get:11 https://r2u.stat.illinois.edu/ubuntu jammy/main amd64 Packages [2,619 kB]\n",
            "Get:12 http://security.ubuntu.com/ubuntu jammy-security/main amd64 Packages [2,452 kB]\n",
            "Get:13 https://r2u.stat.illinois.edu/ubuntu jammy/main all Packages [8,506 kB]\n",
            "Get:14 http://security.ubuntu.com/ubuntu jammy-security/universe amd64 Packages [1,224 kB]\n",
            "Get:15 http://archive.ubuntu.com/ubuntu jammy-updates/universe amd64 Packages [1,513 kB]\n",
            "Get:16 http://archive.ubuntu.com/ubuntu jammy-updates/main amd64 Packages [2,736 kB]\n",
            "Fetched 19.4 MB in 5s (3,644 kB/s)\n",
            "Reading package lists... Done\n",
            "Building dependency tree... Done\n",
            "Reading state information... Done\n",
            "49 packages can be upgraded. Run 'apt list --upgradable' to see them.\n",
            "\u001b[1;33mW: \u001b[0mSkipping acquire of configured file 'main/source/Sources' as repository 'https://r2u.stat.illinois.edu/ubuntu jammy InRelease' does not seem to provide it (sources.list entry misspelt?)\u001b[0m\n",
            "Requirement already satisfied: pyspark in /usr/local/lib/python3.10/dist-packages (3.5.3)\n",
            "Requirement already satisfied: py4j==0.10.9.7 in /usr/local/lib/python3.10/dist-packages (from pyspark) (0.10.9.7)\n",
            "Requirement already satisfied: py4j in /usr/local/lib/python3.10/dist-packages (0.10.9.7)\n",
            "Hit:1 https://cloud.r-project.org/bin/linux/ubuntu jammy-cran40/ InRelease\n",
            "Hit:2 https://developer.download.nvidia.com/compute/cuda/repos/ubuntu2204/x86_64  InRelease\n",
            "Hit:3 http://security.ubuntu.com/ubuntu jammy-security InRelease\n",
            "Hit:4 https://r2u.stat.illinois.edu/ubuntu jammy InRelease\n",
            "Hit:5 http://archive.ubuntu.com/ubuntu jammy InRelease\n",
            "Hit:6 http://archive.ubuntu.com/ubuntu jammy-updates InRelease\n",
            "Hit:7 http://archive.ubuntu.com/ubuntu jammy-backports InRelease\n",
            "Hit:8 https://ppa.launchpadcontent.net/deadsnakes/ppa/ubuntu jammy InRelease\n",
            "Hit:9 https://ppa.launchpadcontent.net/graphics-drivers/ppa/ubuntu jammy InRelease\n",
            "Hit:10 https://ppa.launchpadcontent.net/ubuntugis/ppa/ubuntu jammy InRelease\n",
            "Reading package lists... Done\n",
            "Building dependency tree... Done\n",
            "Reading state information... Done\n",
            "49 packages can be upgraded. Run 'apt list --upgradable' to see them.\n",
            "\u001b[1;33mW: \u001b[0mSkipping acquire of configured file 'main/source/Sources' as repository 'https://r2u.stat.illinois.edu/ubuntu jammy InRelease' does not seem to provide it (sources.list entry misspelt?)\u001b[0m\n",
            "Requirement already satisfied: pyspark in /usr/local/lib/python3.10/dist-packages (3.5.3)\n",
            "Requirement already satisfied: py4j==0.10.9.7 in /usr/local/lib/python3.10/dist-packages (from pyspark) (0.10.9.7)\n",
            "Requirement already satisfied: py4j in /usr/local/lib/python3.10/dist-packages (0.10.9.7)\n"
          ]
        }
      ],
      "source": [
        "#- Instalar en un entorno local o ejecutar Spark en algún servidor en línea (como Google Colab)\n",
        "!sudo apt update\n",
        "!apt-get install openjdk-8-jdk-headless -qq > /dev/null\n",
        "#Check this site for the latest download link https://www.apache.org/dyn/closer.lua/spark/spark-3.2.1/spark-3.2.1-bin-hadoop3.2.tgz\n",
        "!wget -q https://archive.apache.org/dist/spark/spark-3.2.1/spark-3.2.1-bin-hadoop3.2.tgz\n",
        "!tar xf spark-3.2.1-bin-hadoop3.2.tgz\n",
        "!pip install -q findspark\n",
        "!pip install pyspark\n",
        "!pip install py4j\n",
        "\n",
        "import os\n",
        "import sys\n",
        "\n",
        "import findspark\n",
        "findspark.init()\n",
        "findspark.find()\n",
        "\n",
        "import pyspark\n",
        "\n",
        "from pyspark.sql import DataFrame, SparkSession\n",
        "from typing import List\n",
        "import pyspark.sql.types as T\n",
        "import pyspark.sql.functions as F\n",
        "\n",
        "import os\n",
        "import urllib.request\n",
        "\n",
        "\n",
        "spark= SparkSession.builder.appName(\"Intento 1: Spark\").getOrCreate()\n",
        "\n",
        "\n",
        "!sudo apt update\n",
        "!apt-get install openjdk-8-jdk-headless -qq > /dev/null\n",
        "#Check this site for the latest download link https://www.apache.org/dyn/closer.lua/spark/spark-3.2.1/spark-3.2.1-bin-hadoop3.2.tgz\n",
        "!wget -q https://archive.apache.org/dist/spark/spark-3.2.1/spark-3.2.1-bin-hadoop3.2.tgz\n",
        "!tar xf spark-3.2.1-bin-hadoop3.2.tgz\n",
        "!pip install -q findspark\n",
        "!pip install pyspark\n",
        "!pip install py4j\n",
        "\n",
        "\n",
        "\n",
        "#https://github.com/LoredoJ08/mcd_dm_jlg.git"
      ]
    },
    {
      "cell_type": "code",
      "source": [
        "url = 'https://raw.githubusercontent.com/LoredoJ08/mcd_dm_jlg/main/Tarea%201/diabetes_dataset00.csv'\n",
        "file_name = 'diabetes_dataset00.csv'\n",
        "\n",
        "# CSV\n",
        "urllib.request.urlretrieve(url, file_name)\n",
        "df_spark = spark.read.csv(file_name, header=True, inferSchema=True)\n",
        "df_spark.show()\n",
        "\n",
        "#Family History\n",
        "#Physical Activity\n",
        "#Age\n",
        "#BMI\n",
        "#Physical Activity\n",
        "#Dietary Habit\n",
        "#Blood Pressure\n",
        "#Cholesterol Levels\n",
        "#Waist Circumference\n",
        "#Blood Glucose Levels\n",
        "#Smoking Status\n",
        "#Alcohol Consumption\n",
        "\n",
        "\n"
      ],
      "metadata": {
        "colab": {
          "base_uri": "https://localhost:8080/"
        },
        "id": "di0odUROTZ-a",
        "outputId": "97603d3a-56b2-42ba-eea2-7d95c91abfc7"
      },
      "execution_count": 2,
      "outputs": [
        {
          "output_type": "stream",
          "name": "stdout",
          "text": [
            "+--------------------+---------------+--------------+--------------+---------------------+--------------+---+---+-----------------+--------------+--------------+------------------+-------------------+--------------------+---------+---------------------+--------------+-------------------+----------------------+---------------+-----------------------------+-----------------+----------------------------+-----------------+------------------+-------------------------+-------------------+---------------+------------------------+--------------------+-----------------------+---------------+------------+--------------------+\n",
            "|              Target|Genetic Markers|Autoantibodies|Family History|Environmental Factors|Insulin Levels|Age|BMI|Physical Activity|Dietary Habits|Blood Pressure|Cholesterol Levels|Waist Circumference|Blood Glucose Levels|Ethnicity|Socioeconomic Factors|Smoking Status|Alcohol Consumption|Glucose Tolerance Test|History of PCOS|Previous Gestational Diabetes|Pregnancy History|Weight Gain During Pregnancy|Pancreatic Health|Pulmonary Function|Cystic Fibrosis Diagnosis|Steroid Use History|Genetic Testing|Neurological Assessments|Liver Function Tests|Digestive Enzyme Levels|     Urine Test|Birth Weight|Early Onset Symptoms|\n",
            "+--------------------+---------------+--------------+--------------+---------------------+--------------+---+---+-----------------+--------------+--------------+------------------+-------------------+--------------------+---------+---------------------+--------------+-------------------+----------------------+---------------+-----------------------------+-----------------+----------------------------+-----------------+------------------+-------------------------+-------------------+---------------+------------------------+--------------------+-----------------------+---------------+------------+--------------------+\n",
            "|Steroid-Induced D...|       Positive|      Negative|            No|              Present|            40| 44| 38|             High|       Healthy|           124|               201|                 50|                 168| Low Risk|               Medium|        Smoker|               High|                Normal|             No|                           No|           Normal|                          18|               36|                76|                       No|                 No|       Positive|                       3|              Normal|                     56|Ketones Present|        2629|                  No|\n",
            "|Neonatal Diabetes...|       Positive|      Negative|            No|              Present|            13|  1| 17|             High|       Healthy|            73|               121|                 24|                 178| Low Risk|                 High|    Non-Smoker|           Moderate|                Normal|            Yes|                           No|           Normal|                           8|               26|                60|                      Yes|                 No|       Negative|                       1|              Normal|                     28|Glucose Present|        1881|                 Yes|\n",
            "|         Prediabetic|       Positive|      Positive|           Yes|              Present|            27| 36| 24|             High|     Unhealthy|           121|               185|                 36|                 105| Low Risk|               Medium|        Smoker|               High|              Abnormal|            Yes|                           No|           Normal|                          15|               56|                80|                      Yes|                 No|       Negative|                       1|            Abnormal|                     55|Ketones Present|        3622|                 Yes|\n",
            "|     Type 1 Diabetes|       Negative|      Positive|            No|              Present|             8|  7| 16|              Low|     Unhealthy|           100|               151|                 29|                 121| Low Risk|                 High|        Smoker|           Moderate|              Abnormal|             No|                          Yes|           Normal|                          12|               49|                89|                      Yes|                 No|       Positive|                       2|            Abnormal|                     60|Ketones Present|        3542|                  No|\n",
            "|    Wolfram Syndrome|       Negative|      Negative|           Yes|              Present|            17| 10| 17|             High|       Healthy|           103|               146|                 33|                 289| Low Risk|                  Low|        Smoker|           Moderate|                Normal|             No|                          Yes|    Complications|                           2|               10|                41|                       No|                 No|       Positive|                       1|              Normal|                     24|Protein Present|        1770|                  No|\n",
            "|                LADA|       Positive|      Negative|           Yes|              Present|            17| 41| 26|         Moderate|       Healthy|           127|               208|                 32|                 142| Low Risk|                  Low|    Non-Smoker|                Low|              Abnormal|             No|                           No|           Normal|                          11|               40|                85|                      Yes|                 No|       Negative|                       2|              Normal|                     52|Ketones Present|        3835|                 Yes|\n",
            "|     Type 2 Diabetes|       Negative|      Negative|            No|               Absent|            29| 30| 31|         Moderate|       Healthy|           115|               237|                 43|                 186|High Risk|                 High|    Non-Smoker|                Low|                Normal|             No|                          Yes|           Normal|                          15|               62|                64|                      Yes|                Yes|       Negative|                       3|            Abnormal|                     96|Ketones Present|        4426|                  No|\n",
            "|Wolcott-Rallison ...|       Positive|      Negative|            No|               Absent|            10|  3| 18|              Low|     Unhealthy|            80|               157|                 29|                 206|High Risk|                  Low|        Smoker|                Low|                Normal|            Yes|                          Yes|           Normal|                           4|               13|                44|                      Yes|                 No|       Negative|                       1|              Normal|                     29|Ketones Present|        1644|                 Yes|\n",
            "|  Secondary Diabetes|       Negative|      Positive|            No|               Absent|            47| 47| 25|             High|       Healthy|           138|               185|                 40|                 160| Low Risk|                 High|        Smoker|                Low|                Normal|             No|                           No|    Complications|                          30|               91|                71|                       No|                Yes|       Positive|                       3|              Normal|                     74|Ketones Present|        3721|                  No|\n",
            "|  Secondary Diabetes|       Positive|      Negative|           Yes|              Present|            21| 72| 24|              Low|     Unhealthy|           136|               259|                 36|                 192|High Risk|                 High|    Non-Smoker|                Low|              Abnormal|             No|                           No|           Normal|                          33|               86|                69|                      Yes|                Yes|       Positive|                       2|            Abnormal|                     42|Protein Present|        4206|                  No|\n",
            "|  Secondary Diabetes|       Negative|      Positive|            No|              Present|            16| 67| 29|              Low|       Healthy|           134|               193|                 42|                 192|High Risk|               Medium|    Non-Smoker|                Low|              Abnormal|             No|                           No|           Normal|                          37|               64|                75|                       No|                 No|       Negative|                       3|              Normal|                     59|Glucose Present|        3965|                  No|\n",
            "|     Type 1 Diabetes|       Positive|      Negative|            No|               Absent|             8| 29| 23|              Low|     Unhealthy|            91|               195|                 33|                 114|High Risk|                  Low|        Smoker|           Moderate|              Abnormal|            Yes|                           No|    Complications|                          24|               67|                75|                       No|                 No|       Negative|                       1|            Abnormal|                     60|Ketones Present|        2947|                  No|\n",
            "|         Prediabetic|       Positive|      Negative|            No|               Absent|            22| 59| 28|              Low|       Healthy|           128|               191|                 32|                 113| Low Risk|               Medium|        Smoker|           Moderate|                Normal|             No|                           No|           Normal|                          24|               63|                73|                      Yes|                Yes|       Positive|                       1|            Abnormal|                     76|         Normal|        3588|                  No|\n",
            "|Neonatal Diabetes...|       Positive|      Positive|            No|              Present|             9|  0| 19|              Low|     Unhealthy|            71|               126|                 20|                 175| Low Risk|               Medium|    Non-Smoker|           Moderate|                Normal|            Yes|                           No|    Complications|                           1|               16|                56|                       No|                Yes|       Negative|                       1|              Normal|                     29|Glucose Present|        2202|                  No|\n",
            "|                LADA|       Negative|      Negative|            No|               Absent|            21| 45| 22|         Moderate|       Healthy|           116|               163|                 42|                 136|High Risk|                 High|    Non-Smoker|               High|              Abnormal|             No|                          Yes|           Normal|                           6|               76|                76|                       No|                 No|       Positive|                       2|              Normal|                     43|Protein Present|        2984|                  No|\n",
            "|Steroid-Induced D...|       Positive|      Negative|           Yes|              Present|            38| 53| 37|              Low|     Unhealthy|           128|               260|                 41|                 200|High Risk|                  Low|    Non-Smoker|                Low|              Abnormal|             No|                           No|    Complications|                          16|               75|                60|                       No|                Yes|       Negative|                       2|              Normal|                     53|         Normal|        4239|                  No|\n",
            "|                LADA|       Negative|      Negative|            No|               Absent|            14| 36| 31|             High|     Unhealthy|           106|               153|                 37|                 132| Low Risk|                 High|    Non-Smoker|           Moderate|                Normal|             No|                          Yes|    Complications|                          19|               65|                87|                      Yes|                 No|       Positive|                       2|              Normal|                     56|Protein Present|        2620|                 Yes|\n",
            "|Neonatal Diabetes...|       Positive|      Negative|            No|              Present|            12|  1| 17|         Moderate|     Unhealthy|            67|               144|                 22|                 168|High Risk|                 High|    Non-Smoker|           Moderate|                Normal|             No|                           No|           Normal|                           2|               13|                70|                      Yes|                 No|       Positive|                       1|              Normal|                     13|Ketones Present|        1523|                  No|\n",
            "|Type 3c Diabetes ...|       Positive|      Negative|            No|              Present|            30| 60| 32|         Moderate|       Healthy|           149|               239|                 48|                 190|High Risk|               Medium|        Smoker|               High|                Normal|             No|                          Yes|           Normal|                          28|               38|                62|                      Yes|                Yes|       Negative|                       3|            Abnormal|                     41|         Normal|        4335|                  No|\n",
            "|     Type 1 Diabetes|       Negative|      Positive|           Yes|              Present|            19| 16| 18|              Low|     Unhealthy|           102|               165|                 30|                 126|High Risk|               Medium|    Non-Smoker|               High|              Abnormal|            Yes|                           No|           Normal|                          24|               41|                71|                      Yes|                 No|       Positive|                       2|            Abnormal|                     44|Ketones Present|        2940|                  No|\n",
            "+--------------------+---------------+--------------+--------------+---------------------+--------------+---+---+-----------------+--------------+--------------+------------------+-------------------+--------------------+---------+---------------------+--------------+-------------------+----------------------+---------------+-----------------------------+-----------------+----------------------------+-----------------+------------------+-------------------------+-------------------+---------------+------------------------+--------------------+-----------------------+---------------+------------+--------------------+\n",
            "only showing top 20 rows\n",
            "\n"
          ]
        }
      ]
    },
    {
      "cell_type": "code",
      "source": [
        "columns = ['Target',\n",
        "    'Family History', 'Physical Activity', 'Age', 'BMI', 'Dietary Habits', # Changed 'Dietary Habit' to 'Dietary Habits'\n",
        "    'Blood Pressure', 'Cholesterol Levels', 'Waist Circumference',\n",
        "    'Blood Glucose Levels', 'Smoking Status', 'Alcohol Consumption', 'Pregnancy History', 'Weight Gain During Pregnancy',\n",
        "     'Cystic Fibrosis Diagnosis','Previous Gestational Diabetes'\n",
        "]\n",
        "df_spark = df_spark.select(columns)\n",
        "\n",
        "# Obtener valores únicos de cada columna\n",
        "unique_values = {}\n",
        "for col in columns:\n",
        "    unique_values[col] = df_spark.select(col).distinct().rdd.flatMap(lambda x: x).collect()\n",
        "\n",
        "# Imprimir los valores únicos\n",
        "for col, values in unique_values.items():\n",
        "    print(f\"{col}: {values}\")"
      ],
      "metadata": {
        "colab": {
          "base_uri": "https://localhost:8080/"
        },
        "id": "xkhL9UAWhaG6",
        "outputId": "55650c6b-1713-45a7-f979-47201daf9cb3"
      },
      "execution_count": 3,
      "outputs": [
        {
          "output_type": "stream",
          "name": "stdout",
          "text": [
            "Target: ['Type 2 Diabetes', 'Type 3c Diabetes (Pancreatogenic Diabetes)', 'Gestational Diabetes', 'Wolcott-Rallison Syndrome', 'Cystic Fibrosis-Related Diabetes (CFRD)', 'Neonatal Diabetes Mellitus (NDM)', 'MODY', 'LADA', 'Type 1 Diabetes', 'Prediabetic', 'Secondary Diabetes', 'Wolfram Syndrome', 'Steroid-Induced Diabetes']\n",
            "Family History: ['No', 'Yes']\n",
            "Physical Activity: ['High', 'Low', 'Moderate']\n",
            "Age: [31, 65, 53, 78, 34, 28, 76, 26, 27, 44, 12, 22, 47, 1, 52, 13, 16, 6, 3, 40, 20, 57, 54, 48, 5, 19, 64, 41, 43, 15, 37, 61, 9, 17, 72, 35, 59, 55, 4, 8, 39, 23, 49, 7, 51, 69, 63, 10, 77, 50, 45, 38, 73, 25, 24, 70, 62, 29, 21, 60, 32, 75, 56, 58, 11, 33, 68, 71, 14, 42, 79, 2, 30, 66, 67, 46, 0, 18, 74, 36]\n",
            "BMI: [31, 34, 28, 26, 27, 12, 22, 13, 16, 20, 19, 15, 37, 17, 35, 23, 39, 38, 25, 24, 29, 21, 32, 33, 14, 30, 18, 36]\n",
            "Dietary Habits: ['Unhealthy', 'Healthy']\n",
            "Blood Pressure: [148, 137, 85, 65, 133, 78, 108, 115, 101, 126, 81, 76, 103, 91, 128, 122, 93, 111, 140, 132, 146, 86, 142, 139, 94, 120, 96, 92, 117, 64, 112, 127, 61, 88, 107, 72, 114, 100, 130, 136, 84, 87, 69, 129, 97, 63, 102, 77, 82, 80, 73, 113, 70, 121, 125, 62, 143, 95, 98, 90, 60, 75, 141, 145, 109, 105, 110, 83, 71, 106, 68, 116, 147, 123, 135, 119, 79, 149, 131, 118, 124, 99, 66, 67, 144, 138, 74, 104, 134, 89]\n",
            "Cholesterol Levels: [148, 243, 137, 251, 255, 133, 296, 155, 108, 193, 211, 126, 115, 101, 210, 183, 159, 192, 271, 253, 236, 103, 223, 222, 285, 209, 128, 122, 230, 157, 232, 190, 225, 233, 246, 224, 111, 140, 177, 152, 132, 185, 291, 146, 259, 206, 297, 212, 274, 182, 218, 280, 168, 205, 142, 178, 164, 169, 139, 283, 295, 250, 292, 120, 235, 266, 191, 163, 268, 258, 279, 299, 257, 227, 117, 154, 262, 269, 112, 165, 179, 189, 207, 127, 197, 263, 107, 202, 231, 286, 175, 196, 217, 290, 229, 173, 114, 220, 278, 241, 100, 161, 176, 162, 130, 244, 238, 136, 247, 171, 273, 277, 194, 129, 166, 239, 234, 264, 102, 293, 267, 216, 261, 181, 249, 167, 288, 289, 240, 245, 237, 113, 160, 121, 125, 156, 143, 219, 226, 214, 195, 256, 287, 221, 203, 265, 151, 141, 200, 145, 272, 109, 254, 213, 228, 170, 105, 298, 188, 204, 150, 110, 260, 106, 116, 147, 198, 123, 270, 158, 199, 242, 284, 135, 248, 119, 201, 276, 131, 149, 294, 118, 281, 124, 184, 186, 275, 282, 174, 215, 172, 252, 153, 144, 138, 180, 104, 134, 208, 187]\n",
            "Waist Circumference: [31, 53, 34, 28, 26, 27, 44, 22, 47, 52, 40, 20, 54, 48, 41, 43, 37, 35, 39, 23, 49, 51, 50, 45, 38, 25, 24, 29, 21, 32, 33, 42, 30, 46, 36]\n",
            "Blood Glucose Levels: [148, 243, 137, 251, 85, 255, 133, 296, 108, 155, 211, 193, 126, 115, 101, 81, 183, 210, 192, 159, 271, 253, 103, 236, 223, 91, 222, 285, 128, 209, 122, 230, 190, 93, 233, 157, 232, 225, 246, 111, 224, 140, 177, 132, 152, 185, 291, 146, 259, 206, 297, 212, 274, 182, 218, 280, 86, 168, 205, 178, 142, 164, 169, 139, 283, 295, 94, 250, 292, 120, 96, 235, 266, 163, 191, 268, 279, 258, 92, 299, 257, 227, 117, 154, 262, 112, 269, 165, 189, 207, 179, 127, 197, 88, 107, 263, 202, 231, 286, 175, 196, 290, 217, 229, 114, 173, 220, 278, 100, 241, 161, 176, 162, 130, 244, 238, 136, 84, 247, 87, 171, 273, 194, 277, 129, 166, 97, 234, 239, 264, 102, 267, 293, 216, 261, 181, 249, 82, 167, 288, 289, 240, 80, 245, 113, 237, 160, 121, 125, 156, 219, 143, 95, 226, 214, 195, 98, 256, 287, 90, 221, 265, 203, 151, 141, 200, 145, 272, 109, 254, 213, 228, 170, 105, 298, 188, 204, 150, 83, 110, 106, 260, 116, 147, 198, 123, 242, 158, 199, 284, 270, 248, 135, 119, 201, 131, 149, 276, 294, 118, 124, 281, 99, 184, 186, 275, 282, 174, 215, 172, 252, 153, 144, 138, 104, 180, 134, 187, 208, 89]\n",
            "Smoking Status: ['Non-Smoker', 'Smoker']\n",
            "Alcohol Consumption: ['High', 'Low', 'Moderate']\n",
            "Pregnancy History: ['Complications', 'Normal']\n",
            "Weight Gain During Pregnancy: [31, 34, 28, 26, 27, 12, 22, 1, 13, 6, 16, 3, 20, 5, 19, 15, 37, 17, 9, 35, 4, 8, 23, 39, 7, 10, 38, 25, 24, 29, 21, 32, 11, 33, 14, 2, 30, 0, 18, 36]\n",
            "Cystic Fibrosis Diagnosis: ['No', 'Yes']\n",
            "Previous Gestational Diabetes: ['No', 'Yes']\n"
          ]
        }
      ]
    },
    {
      "cell_type": "code",
      "source": [
        "from pyspark.sql import SparkSession\n",
        "spark = SparkSession.builder \\\n",
        "               .appName('ml') \\\n",
        "               .getOrCreate()"
      ],
      "metadata": {
        "id": "6pMwYP6pTdcu"
      },
      "execution_count": 4,
      "outputs": []
    },
    {
      "cell_type": "markdown",
      "source": [
        "Exploración inicial"
      ],
      "metadata": {
        "id": "tSAGfataTsN1"
      }
    },
    {
      "cell_type": "code",
      "source": [
        "# Mostrar el esquema de los datos\n",
        "df_spark.printSchema()\n"
      ],
      "metadata": {
        "colab": {
          "base_uri": "https://localhost:8080/"
        },
        "id": "-bOYWgWSTu-s",
        "outputId": "7ecb5aef-bfc0-428d-a67b-887df7a8e5a0"
      },
      "execution_count": 5,
      "outputs": [
        {
          "output_type": "stream",
          "name": "stdout",
          "text": [
            "root\n",
            " |-- Target: string (nullable = true)\n",
            " |-- Family History: string (nullable = true)\n",
            " |-- Physical Activity: string (nullable = true)\n",
            " |-- Age: integer (nullable = true)\n",
            " |-- BMI: integer (nullable = true)\n",
            " |-- Dietary Habits: string (nullable = true)\n",
            " |-- Blood Pressure: integer (nullable = true)\n",
            " |-- Cholesterol Levels: integer (nullable = true)\n",
            " |-- Waist Circumference: integer (nullable = true)\n",
            " |-- Blood Glucose Levels: integer (nullable = true)\n",
            " |-- Smoking Status: string (nullable = true)\n",
            " |-- Alcohol Consumption: string (nullable = true)\n",
            " |-- Pregnancy History: string (nullable = true)\n",
            " |-- Weight Gain During Pregnancy: integer (nullable = true)\n",
            " |-- Cystic Fibrosis Diagnosis: string (nullable = true)\n",
            " |-- Previous Gestational Diabetes: string (nullable = true)\n",
            "\n"
          ]
        }
      ]
    },
    {
      "cell_type": "code",
      "source": [
        "df_spark.show()"
      ],
      "metadata": {
        "colab": {
          "base_uri": "https://localhost:8080/"
        },
        "id": "B4SZT4ucTvB_",
        "outputId": "6c457242-7c36-49dd-d2b2-f2f9adf7ed2f"
      },
      "execution_count": 6,
      "outputs": [
        {
          "output_type": "stream",
          "name": "stdout",
          "text": [
            "+--------------------+--------------+-----------------+---+---+--------------+--------------+------------------+-------------------+--------------------+--------------+-------------------+-----------------+----------------------------+-------------------------+-----------------------------+\n",
            "|              Target|Family History|Physical Activity|Age|BMI|Dietary Habits|Blood Pressure|Cholesterol Levels|Waist Circumference|Blood Glucose Levels|Smoking Status|Alcohol Consumption|Pregnancy History|Weight Gain During Pregnancy|Cystic Fibrosis Diagnosis|Previous Gestational Diabetes|\n",
            "+--------------------+--------------+-----------------+---+---+--------------+--------------+------------------+-------------------+--------------------+--------------+-------------------+-----------------+----------------------------+-------------------------+-----------------------------+\n",
            "|Steroid-Induced D...|            No|             High| 44| 38|       Healthy|           124|               201|                 50|                 168|        Smoker|               High|           Normal|                          18|                       No|                           No|\n",
            "|Neonatal Diabetes...|            No|             High|  1| 17|       Healthy|            73|               121|                 24|                 178|    Non-Smoker|           Moderate|           Normal|                           8|                      Yes|                           No|\n",
            "|         Prediabetic|           Yes|             High| 36| 24|     Unhealthy|           121|               185|                 36|                 105|        Smoker|               High|           Normal|                          15|                      Yes|                           No|\n",
            "|     Type 1 Diabetes|            No|              Low|  7| 16|     Unhealthy|           100|               151|                 29|                 121|        Smoker|           Moderate|           Normal|                          12|                      Yes|                          Yes|\n",
            "|    Wolfram Syndrome|           Yes|             High| 10| 17|       Healthy|           103|               146|                 33|                 289|        Smoker|           Moderate|    Complications|                           2|                       No|                          Yes|\n",
            "|                LADA|           Yes|         Moderate| 41| 26|       Healthy|           127|               208|                 32|                 142|    Non-Smoker|                Low|           Normal|                          11|                      Yes|                           No|\n",
            "|     Type 2 Diabetes|            No|         Moderate| 30| 31|       Healthy|           115|               237|                 43|                 186|    Non-Smoker|                Low|           Normal|                          15|                      Yes|                          Yes|\n",
            "|Wolcott-Rallison ...|            No|              Low|  3| 18|     Unhealthy|            80|               157|                 29|                 206|        Smoker|                Low|           Normal|                           4|                      Yes|                          Yes|\n",
            "|  Secondary Diabetes|            No|             High| 47| 25|       Healthy|           138|               185|                 40|                 160|        Smoker|                Low|    Complications|                          30|                       No|                           No|\n",
            "|  Secondary Diabetes|           Yes|              Low| 72| 24|     Unhealthy|           136|               259|                 36|                 192|    Non-Smoker|                Low|           Normal|                          33|                      Yes|                           No|\n",
            "|  Secondary Diabetes|            No|              Low| 67| 29|       Healthy|           134|               193|                 42|                 192|    Non-Smoker|                Low|           Normal|                          37|                       No|                           No|\n",
            "|     Type 1 Diabetes|            No|              Low| 29| 23|     Unhealthy|            91|               195|                 33|                 114|        Smoker|           Moderate|    Complications|                          24|                       No|                           No|\n",
            "|         Prediabetic|            No|              Low| 59| 28|       Healthy|           128|               191|                 32|                 113|        Smoker|           Moderate|           Normal|                          24|                      Yes|                           No|\n",
            "|Neonatal Diabetes...|            No|              Low|  0| 19|     Unhealthy|            71|               126|                 20|                 175|    Non-Smoker|           Moderate|    Complications|                           1|                       No|                           No|\n",
            "|                LADA|            No|         Moderate| 45| 22|       Healthy|           116|               163|                 42|                 136|    Non-Smoker|               High|           Normal|                           6|                       No|                          Yes|\n",
            "|Steroid-Induced D...|           Yes|              Low| 53| 37|     Unhealthy|           128|               260|                 41|                 200|    Non-Smoker|                Low|    Complications|                          16|                       No|                           No|\n",
            "|                LADA|            No|             High| 36| 31|     Unhealthy|           106|               153|                 37|                 132|    Non-Smoker|           Moderate|    Complications|                          19|                      Yes|                          Yes|\n",
            "|Neonatal Diabetes...|            No|         Moderate|  1| 17|     Unhealthy|            67|               144|                 22|                 168|    Non-Smoker|           Moderate|           Normal|                           2|                      Yes|                           No|\n",
            "|Type 3c Diabetes ...|            No|         Moderate| 60| 32|       Healthy|           149|               239|                 48|                 190|        Smoker|               High|           Normal|                          28|                      Yes|                          Yes|\n",
            "|     Type 1 Diabetes|           Yes|              Low| 16| 18|     Unhealthy|           102|               165|                 30|                 126|    Non-Smoker|               High|           Normal|                          24|                      Yes|                           No|\n",
            "+--------------------+--------------+-----------------+---+---+--------------+--------------+------------------+-------------------+--------------------+--------------+-------------------+-----------------+----------------------------+-------------------------+-----------------------------+\n",
            "only showing top 20 rows\n",
            "\n"
          ]
        }
      ]
    },
    {
      "cell_type": "code",
      "source": [
        "# Cambio de tipo de datos\n",
        "from pyspark.sql import functions as F\n",
        "from pyspark.sql import types as T"
      ],
      "metadata": {
        "id": "nQ33gHBkT__W"
      },
      "execution_count": 7,
      "outputs": []
    },
    {
      "cell_type": "code",
      "source": [
        "from pyspark.sql.types import StructType, StructField, IntegerType, StringType"
      ],
      "metadata": {
        "id": "xlJo_50dVyCk"
      },
      "execution_count": 8,
      "outputs": []
    },
    {
      "cell_type": "code",
      "source": [
        "schema = StructType([\n",
        "    StructField(\"Target\", StringType(), True),\n",
        "    StructField(\"Family History\", StringType(), True),\n",
        "    StructField(\"Physical Activity\", StringType(), True),\n",
        "    StructField(\"Age\", IntegerType(), True),\n",
        "    StructField(\"BMI\", IntegerType(), True),\n",
        "    StructField(\"Dietary Habits\", StringType(), True),\n",
        "    StructField(\"Blood Pressure\", IntegerType(), True),\n",
        "    StructField(\"Cholesterol Levels\", IntegerType(), True),\n",
        "    StructField(\"Waist Circumference\", IntegerType(), True),\n",
        "    StructField(\"Blood Glucose Levels\", IntegerType(), True),\n",
        "    StructField(\"Smoking Status\", StringType(), True),\n",
        "    StructField(\"Alcohol Consumption\", StringType(), True),\n",
        "    StructField(\"Pregnancy History\", StringType(), True),\n",
        "    StructField(\"Weight Gain During Pregnancy\", IntegerType(), True),\n",
        "    StructField(\"Cystic Fibrosis Diagnosis\", StringType(), True)\n",
        "])"
      ],
      "metadata": {
        "id": "H6TEo1OKWLX9"
      },
      "execution_count": 9,
      "outputs": []
    },
    {
      "cell_type": "code",
      "source": [
        "columnas_categoricas = columns\n",
        "\n",
        "for col in columnas_categoricas:\n",
        "    df_spark = df_spark.withColumn(col, F.when(F.col(col) == \"Positive\", 1)\n",
        "                                 .when(F.col(col) == \"Negative\", 0)\n",
        "                                 .when(F.col(col) == \"Yes\", 1)\n",
        "                                 .when(F.col(col) == \"No\", 0)\n",
        "                                 .when(F.col(col) == \"Present\", 1)\n",
        "                                 .when(F.col(col) == \"Absent\", 0)\n",
        "                                 .when(F.col(col) == \"High\", 1)\n",
        "                                .when(F.col(col) == \"Low\", 0)\n",
        "                                .when(F.col(col) == \"Moderate\", 2)\n",
        "                                .when(F.col(col) == \"Healthy\", 0)\n",
        "                                .when(F.col(col) == \"Unhealthy\", 1)\n",
        "                                .when(F.col(col) == \"Low Risk\", 0)\n",
        "                                .when(F.col(col) == \"High Risk\", 1)\n",
        "                                .when(F.col(col) == \"Medium\", 1)\n",
        "                                .when(F.col(col) == \"High\", 2)\n",
        "                                .when(F.col(col) == \"Low\", 0)\n",
        "                                .when(F.col(col) == \"Smoker\", 1)\n",
        "                                .when(F.col(col) == \"Non-Smoker\", 0)\n",
        "                                .when(F.col(col) == \"Normal\", 0)\n",
        "                                .when(F.col(col) == \"Abnormal\", 1)\n",
        "                                .when(F.col(col) == \"Normal\", 0)\n",
        "                                .when(F.col(col) == \"Complications\", 1)\n",
        "\n",
        "                                 .otherwise(F.col(col)))\n",
        "\n",
        "df_spark.show(20)\n"
      ],
      "metadata": {
        "id": "jcRPx5OGWOB4",
        "colab": {
          "base_uri": "https://localhost:8080/"
        },
        "outputId": "17ca07a1-9499-4760-bb8a-1902f73eba5d"
      },
      "execution_count": 10,
      "outputs": [
        {
          "output_type": "stream",
          "name": "stdout",
          "text": [
            "+--------------------+--------------+-----------------+---+---+--------------+--------------+------------------+-------------------+--------------------+--------------+-------------------+-----------------+----------------------------+-------------------------+-----------------------------+\n",
            "|              Target|Family History|Physical Activity|Age|BMI|Dietary Habits|Blood Pressure|Cholesterol Levels|Waist Circumference|Blood Glucose Levels|Smoking Status|Alcohol Consumption|Pregnancy History|Weight Gain During Pregnancy|Cystic Fibrosis Diagnosis|Previous Gestational Diabetes|\n",
            "+--------------------+--------------+-----------------+---+---+--------------+--------------+------------------+-------------------+--------------------+--------------+-------------------+-----------------+----------------------------+-------------------------+-----------------------------+\n",
            "|Steroid-Induced D...|             0|                1| 44| 38|             0|           124|               201|                 50|                 168|             1|                  1|                0|                          18|                        0|                            0|\n",
            "|Neonatal Diabetes...|             0|                1|  1| 17|             0|            73|               121|                 24|                 178|             0|                  2|                0|                           8|                        1|                            0|\n",
            "|         Prediabetic|             1|                1| 36| 24|             1|           121|               185|                 36|                 105|             1|                  1|                0|                          15|                        1|                            0|\n",
            "|     Type 1 Diabetes|             0|                0|  7| 16|             1|           100|               151|                 29|                 121|             1|                  2|                0|                          12|                        1|                            1|\n",
            "|    Wolfram Syndrome|             1|                1| 10| 17|             0|           103|               146|                 33|                 289|             1|                  2|                1|                           2|                        0|                            1|\n",
            "|                LADA|             1|                2| 41| 26|             0|           127|               208|                 32|                 142|             0|                  0|                0|                          11|                        1|                            0|\n",
            "|     Type 2 Diabetes|             0|                2| 30| 31|             0|           115|               237|                 43|                 186|             0|                  0|                0|                          15|                        1|                            1|\n",
            "|Wolcott-Rallison ...|             0|                0|  3| 18|             1|            80|               157|                 29|                 206|             1|                  0|                0|                           4|                        1|                            1|\n",
            "|  Secondary Diabetes|             0|                1| 47| 25|             0|           138|               185|                 40|                 160|             1|                  0|                1|                          30|                        0|                            0|\n",
            "|  Secondary Diabetes|             1|                0| 72| 24|             1|           136|               259|                 36|                 192|             0|                  0|                0|                          33|                        1|                            0|\n",
            "|  Secondary Diabetes|             0|                0| 67| 29|             0|           134|               193|                 42|                 192|             0|                  0|                0|                          37|                        0|                            0|\n",
            "|     Type 1 Diabetes|             0|                0| 29| 23|             1|            91|               195|                 33|                 114|             1|                  2|                1|                          24|                        0|                            0|\n",
            "|         Prediabetic|             0|                0| 59| 28|             0|           128|               191|                 32|                 113|             1|                  2|                0|                          24|                        1|                            0|\n",
            "|Neonatal Diabetes...|             0|                0|  0| 19|             1|            71|               126|                 20|                 175|             0|                  2|                1|                           1|                        0|                            0|\n",
            "|                LADA|             0|                2| 45| 22|             0|           116|               163|                 42|                 136|             0|                  1|                0|                           6|                        0|                            1|\n",
            "|Steroid-Induced D...|             1|                0| 53| 37|             1|           128|               260|                 41|                 200|             0|                  0|                1|                          16|                        0|                            0|\n",
            "|                LADA|             0|                1| 36| 31|             1|           106|               153|                 37|                 132|             0|                  2|                1|                          19|                        1|                            1|\n",
            "|Neonatal Diabetes...|             0|                2|  1| 17|             1|            67|               144|                 22|                 168|             0|                  2|                0|                           2|                        1|                            0|\n",
            "|Type 3c Diabetes ...|             0|                2| 60| 32|             0|           149|               239|                 48|                 190|             1|                  1|                0|                          28|                        1|                            1|\n",
            "|     Type 1 Diabetes|             1|                0| 16| 18|             1|           102|               165|                 30|                 126|             0|                  1|                0|                          24|                        1|                            0|\n",
            "+--------------------+--------------+-----------------+---+---+--------------+--------------+------------------+-------------------+--------------------+--------------+-------------------+-----------------+----------------------------+-------------------------+-----------------------------+\n",
            "only showing top 20 rows\n",
            "\n"
          ]
        }
      ]
    },
    {
      "cell_type": "code",
      "source": [
        "# Obtener valores únicos de cada columna\n",
        "unique_values = {}\n",
        "for col in columns:\n",
        "    unique_values[col] = df_spark.select(col).distinct().rdd.flatMap(lambda x: x).collect()\n",
        "\n",
        "# Imprimir los valores únicos\n",
        "for col, values in unique_values.items():\n",
        "    print(f\"{col}: {values}\")\n"
      ],
      "metadata": {
        "colab": {
          "base_uri": "https://localhost:8080/"
        },
        "id": "HqobMA2iqbie",
        "outputId": "39376b6e-c89b-45e0-eed1-5d4aa5a7aeee"
      },
      "execution_count": 11,
      "outputs": [
        {
          "output_type": "stream",
          "name": "stdout",
          "text": [
            "Target: ['Type 2 Diabetes', 'Type 3c Diabetes (Pancreatogenic Diabetes)', 'Gestational Diabetes', 'Wolcott-Rallison Syndrome', 'Cystic Fibrosis-Related Diabetes (CFRD)', 'Neonatal Diabetes Mellitus (NDM)', 'MODY', 'LADA', 'Type 1 Diabetes', 'Prediabetic', 'Secondary Diabetes', 'Wolfram Syndrome', 'Steroid-Induced Diabetes']\n",
            "Family History: ['0', '1']\n",
            "Physical Activity: ['0', '1', '2']\n",
            "Age: [31, 65, 53, 78, 34, 28, 76, 26, 27, 44, 12, 22, 47, 1, 52, 13, 16, 6, 3, 40, 20, 57, 54, 48, 5, 19, 64, 41, 43, 15, 37, 61, 9, 17, 72, 35, 59, 55, 4, 8, 39, 23, 49, 7, 51, 69, 63, 10, 77, 50, 45, 38, 73, 25, 24, 70, 62, 29, 21, 60, 32, 75, 56, 58, 11, 33, 68, 71, 14, 42, 79, 2, 30, 66, 67, 46, 0, 18, 74, 36]\n",
            "BMI: [31, 34, 28, 26, 27, 12, 22, 13, 16, 20, 19, 15, 37, 17, 35, 23, 39, 38, 25, 24, 29, 21, 32, 33, 14, 30, 18, 36]\n",
            "Dietary Habits: ['0', '1']\n",
            "Blood Pressure: [148, 137, 85, 65, 133, 78, 108, 115, 101, 126, 81, 76, 103, 91, 128, 122, 93, 111, 140, 132, 146, 86, 142, 139, 94, 120, 96, 92, 117, 64, 112, 127, 61, 88, 107, 72, 114, 100, 130, 136, 84, 87, 69, 129, 97, 63, 102, 77, 82, 80, 73, 113, 70, 121, 125, 62, 143, 95, 98, 90, 60, 75, 141, 145, 109, 105, 110, 83, 71, 106, 68, 116, 147, 123, 135, 119, 79, 149, 131, 118, 124, 99, 66, 67, 144, 138, 74, 104, 134, 89]\n",
            "Cholesterol Levels: [148, 243, 137, 251, 255, 133, 296, 155, 108, 193, 211, 126, 115, 101, 210, 183, 159, 192, 271, 253, 236, 103, 223, 222, 285, 209, 128, 122, 230, 157, 232, 190, 225, 233, 246, 224, 111, 140, 177, 152, 132, 185, 291, 146, 259, 206, 297, 212, 274, 182, 218, 280, 168, 205, 142, 178, 164, 169, 139, 283, 295, 250, 292, 120, 235, 266, 191, 163, 268, 258, 279, 299, 257, 227, 117, 154, 262, 269, 112, 165, 179, 189, 207, 127, 197, 263, 107, 202, 231, 286, 175, 196, 217, 290, 229, 173, 114, 220, 278, 241, 100, 161, 176, 162, 130, 244, 238, 136, 247, 171, 273, 277, 194, 129, 166, 239, 234, 264, 102, 293, 267, 216, 261, 181, 249, 167, 288, 289, 240, 245, 237, 113, 160, 121, 125, 156, 143, 219, 226, 214, 195, 256, 287, 221, 203, 265, 151, 141, 200, 145, 272, 109, 254, 213, 228, 170, 105, 298, 188, 204, 150, 110, 260, 106, 116, 147, 198, 123, 270, 158, 199, 242, 284, 135, 248, 119, 201, 276, 131, 149, 294, 118, 281, 124, 184, 186, 275, 282, 174, 215, 172, 252, 153, 144, 138, 180, 104, 134, 208, 187]\n",
            "Waist Circumference: [31, 53, 34, 28, 26, 27, 44, 22, 47, 52, 40, 20, 54, 48, 41, 43, 37, 35, 39, 23, 49, 51, 50, 45, 38, 25, 24, 29, 21, 32, 33, 42, 30, 46, 36]\n",
            "Blood Glucose Levels: [148, 243, 137, 251, 85, 255, 133, 296, 108, 155, 211, 193, 126, 115, 101, 81, 183, 210, 192, 159, 271, 253, 103, 236, 223, 91, 222, 285, 128, 209, 122, 230, 190, 93, 233, 157, 232, 225, 246, 111, 224, 140, 177, 132, 152, 185, 291, 146, 259, 206, 297, 212, 274, 182, 218, 280, 86, 168, 205, 178, 142, 164, 169, 139, 283, 295, 94, 250, 292, 120, 96, 235, 266, 163, 191, 268, 279, 258, 92, 299, 257, 227, 117, 154, 262, 112, 269, 165, 189, 207, 179, 127, 197, 88, 107, 263, 202, 231, 286, 175, 196, 290, 217, 229, 114, 173, 220, 278, 100, 241, 161, 176, 162, 130, 244, 238, 136, 84, 247, 87, 171, 273, 194, 277, 129, 166, 97, 234, 239, 264, 102, 267, 293, 216, 261, 181, 249, 82, 167, 288, 289, 240, 80, 245, 113, 237, 160, 121, 125, 156, 219, 143, 95, 226, 214, 195, 98, 256, 287, 90, 221, 265, 203, 151, 141, 200, 145, 272, 109, 254, 213, 228, 170, 105, 298, 188, 204, 150, 83, 110, 106, 260, 116, 147, 198, 123, 242, 158, 199, 284, 270, 248, 135, 119, 201, 131, 149, 276, 294, 118, 124, 281, 99, 184, 186, 275, 282, 174, 215, 172, 252, 153, 144, 138, 104, 180, 134, 187, 208, 89]\n",
            "Smoking Status: ['0', '1']\n",
            "Alcohol Consumption: ['0', '1', '2']\n",
            "Pregnancy History: ['0', '1']\n",
            "Weight Gain During Pregnancy: [31, 34, 28, 26, 27, 12, 22, 1, 13, 6, 16, 3, 20, 5, 19, 15, 37, 17, 9, 35, 4, 8, 23, 39, 7, 10, 38, 25, 24, 29, 21, 32, 11, 33, 14, 2, 30, 0, 18, 36]\n",
            "Cystic Fibrosis Diagnosis: ['0', '1']\n",
            "Previous Gestational Diabetes: ['0', '1']\n"
          ]
        }
      ]
    },
    {
      "cell_type": "code",
      "source": [
        "\"\"\"\n",
        "DROP NA\n",
        "\"\"\"\n",
        "print(df_spark.count())\n",
        "df_spark = df_spark.dropna()\n",
        "print(df_spark.count())"
      ],
      "metadata": {
        "colab": {
          "base_uri": "https://localhost:8080/"
        },
        "id": "Rcn_uGzKenbl",
        "outputId": "3920f5b3-6a9c-4fc8-9227-295e84c63e5a"
      },
      "execution_count": 12,
      "outputs": [
        {
          "output_type": "stream",
          "name": "stdout",
          "text": [
            "70000\n",
            "70000\n"
          ]
        }
      ]
    },
    {
      "cell_type": "code",
      "source": [
        "df_spark"
      ],
      "metadata": {
        "colab": {
          "base_uri": "https://localhost:8080/"
        },
        "id": "LYXApBmFv126",
        "outputId": "71844704-fbae-4ad3-d940-78505f28e53c"
      },
      "execution_count": 13,
      "outputs": [
        {
          "output_type": "execute_result",
          "data": {
            "text/plain": [
              "DataFrame[Target: string, Family History: string, Physical Activity: string, Age: int, BMI: int, Dietary Habits: string, Blood Pressure: int, Cholesterol Levels: int, Waist Circumference: int, Blood Glucose Levels: int, Smoking Status: string, Alcohol Consumption: string, Pregnancy History: string, Weight Gain During Pregnancy: int, Cystic Fibrosis Diagnosis: string, Previous Gestational Diabetes: string]"
            ]
          },
          "metadata": {},
          "execution_count": 13
        }
      ]
    },
    {
      "cell_type": "code",
      "source": [
        "from pyspark.ml.feature import VectorAssembler, ChiSqSelector"
      ],
      "metadata": {
        "id": "oKNC02FleUFW"
      },
      "execution_count": 14,
      "outputs": []
    },
    {
      "cell_type": "code",
      "source": [
        "from pyspark.sql.types import IntegerType\n",
        "\n",
        "# Get the first column name\n",
        "first_column = columns[0]\n",
        "\n",
        "# Get the remaining columns (excluding the first)\n",
        "columnas_categoricas = columns[1:]\n",
        "\n",
        "# Cast categorical columns (excluding the first) to IntegerType\n",
        "for col in columnas_categoricas:\n",
        "    df_spark = df_spark.withColumn(col, df_spark[col].cast(IntegerType()))\n",
        "\n",
        "# Display the updated DataFrame\n",
        "df_spark.show(20)"
      ],
      "metadata": {
        "colab": {
          "base_uri": "https://localhost:8080/"
        },
        "id": "w3uJJEEEfaxT",
        "outputId": "3116e40e-b4a4-4b33-fd63-d4acdb4373e8"
      },
      "execution_count": 15,
      "outputs": [
        {
          "output_type": "stream",
          "name": "stdout",
          "text": [
            "+--------------------+--------------+-----------------+---+---+--------------+--------------+------------------+-------------------+--------------------+--------------+-------------------+-----------------+----------------------------+-------------------------+-----------------------------+\n",
            "|              Target|Family History|Physical Activity|Age|BMI|Dietary Habits|Blood Pressure|Cholesterol Levels|Waist Circumference|Blood Glucose Levels|Smoking Status|Alcohol Consumption|Pregnancy History|Weight Gain During Pregnancy|Cystic Fibrosis Diagnosis|Previous Gestational Diabetes|\n",
            "+--------------------+--------------+-----------------+---+---+--------------+--------------+------------------+-------------------+--------------------+--------------+-------------------+-----------------+----------------------------+-------------------------+-----------------------------+\n",
            "|Steroid-Induced D...|             0|                1| 44| 38|             0|           124|               201|                 50|                 168|             1|                  1|                0|                          18|                        0|                            0|\n",
            "|Neonatal Diabetes...|             0|                1|  1| 17|             0|            73|               121|                 24|                 178|             0|                  2|                0|                           8|                        1|                            0|\n",
            "|         Prediabetic|             1|                1| 36| 24|             1|           121|               185|                 36|                 105|             1|                  1|                0|                          15|                        1|                            0|\n",
            "|     Type 1 Diabetes|             0|                0|  7| 16|             1|           100|               151|                 29|                 121|             1|                  2|                0|                          12|                        1|                            1|\n",
            "|    Wolfram Syndrome|             1|                1| 10| 17|             0|           103|               146|                 33|                 289|             1|                  2|                1|                           2|                        0|                            1|\n",
            "|                LADA|             1|                2| 41| 26|             0|           127|               208|                 32|                 142|             0|                  0|                0|                          11|                        1|                            0|\n",
            "|     Type 2 Diabetes|             0|                2| 30| 31|             0|           115|               237|                 43|                 186|             0|                  0|                0|                          15|                        1|                            1|\n",
            "|Wolcott-Rallison ...|             0|                0|  3| 18|             1|            80|               157|                 29|                 206|             1|                  0|                0|                           4|                        1|                            1|\n",
            "|  Secondary Diabetes|             0|                1| 47| 25|             0|           138|               185|                 40|                 160|             1|                  0|                1|                          30|                        0|                            0|\n",
            "|  Secondary Diabetes|             1|                0| 72| 24|             1|           136|               259|                 36|                 192|             0|                  0|                0|                          33|                        1|                            0|\n",
            "|  Secondary Diabetes|             0|                0| 67| 29|             0|           134|               193|                 42|                 192|             0|                  0|                0|                          37|                        0|                            0|\n",
            "|     Type 1 Diabetes|             0|                0| 29| 23|             1|            91|               195|                 33|                 114|             1|                  2|                1|                          24|                        0|                            0|\n",
            "|         Prediabetic|             0|                0| 59| 28|             0|           128|               191|                 32|                 113|             1|                  2|                0|                          24|                        1|                            0|\n",
            "|Neonatal Diabetes...|             0|                0|  0| 19|             1|            71|               126|                 20|                 175|             0|                  2|                1|                           1|                        0|                            0|\n",
            "|                LADA|             0|                2| 45| 22|             0|           116|               163|                 42|                 136|             0|                  1|                0|                           6|                        0|                            1|\n",
            "|Steroid-Induced D...|             1|                0| 53| 37|             1|           128|               260|                 41|                 200|             0|                  0|                1|                          16|                        0|                            0|\n",
            "|                LADA|             0|                1| 36| 31|             1|           106|               153|                 37|                 132|             0|                  2|                1|                          19|                        1|                            1|\n",
            "|Neonatal Diabetes...|             0|                2|  1| 17|             1|            67|               144|                 22|                 168|             0|                  2|                0|                           2|                        1|                            0|\n",
            "|Type 3c Diabetes ...|             0|                2| 60| 32|             0|           149|               239|                 48|                 190|             1|                  1|                0|                          28|                        1|                            1|\n",
            "|     Type 1 Diabetes|             1|                0| 16| 18|             1|           102|               165|                 30|                 126|             0|                  1|                0|                          24|                        1|                            0|\n",
            "+--------------------+--------------+-----------------+---+---+--------------+--------------+------------------+-------------------+--------------------+--------------+-------------------+-----------------+----------------------------+-------------------------+-----------------------------+\n",
            "only showing top 20 rows\n",
            "\n"
          ]
        }
      ]
    },
    {
      "cell_type": "code",
      "source": [
        "inputCols = [ 'Family History', 'Physical Activity', 'Age', 'BMI', 'Dietary Habits', # Changed 'Dietary Habit' to 'Dietary Habits'\n",
        "    'Blood Pressure', 'Cholesterol Levels', 'Waist Circumference',\n",
        "    'Blood Glucose Levels', 'Smoking Status', 'Alcohol Consumption', 'Pregnancy History', 'Weight Gain During Pregnancy',\n",
        "     'Cystic Fibrosis Diagnosis','Previous Gestational Diabetes']\n",
        "\n",
        "assembler = VectorAssembler(inputCols = inputCols, outputCol = \"features\")\n",
        "df_spark_features = assembler.transform(df_spark)\n",
        "\n",
        "df_spark_features.select('features').show(100, False)"
      ],
      "metadata": {
        "colab": {
          "base_uri": "https://localhost:8080/"
        },
        "id": "odKJDCY_h-9p",
        "outputId": "c96b93e1-9bfd-41c9-d2c0-7b7c52b17b5c"
      },
      "execution_count": 16,
      "outputs": [
        {
          "output_type": "stream",
          "name": "stdout",
          "text": [
            "+-----------------------------------------------------------------------+\n",
            "|features                                                               |\n",
            "+-----------------------------------------------------------------------+\n",
            "|[0.0,1.0,44.0,38.0,0.0,124.0,201.0,50.0,168.0,1.0,1.0,0.0,18.0,0.0,0.0]|\n",
            "|[0.0,1.0,1.0,17.0,0.0,73.0,121.0,24.0,178.0,0.0,2.0,0.0,8.0,1.0,0.0]   |\n",
            "|[1.0,1.0,36.0,24.0,1.0,121.0,185.0,36.0,105.0,1.0,1.0,0.0,15.0,1.0,0.0]|\n",
            "|[0.0,0.0,7.0,16.0,1.0,100.0,151.0,29.0,121.0,1.0,2.0,0.0,12.0,1.0,1.0] |\n",
            "|[1.0,1.0,10.0,17.0,0.0,103.0,146.0,33.0,289.0,1.0,2.0,1.0,2.0,0.0,1.0] |\n",
            "|[1.0,2.0,41.0,26.0,0.0,127.0,208.0,32.0,142.0,0.0,0.0,0.0,11.0,1.0,0.0]|\n",
            "|[0.0,2.0,30.0,31.0,0.0,115.0,237.0,43.0,186.0,0.0,0.0,0.0,15.0,1.0,1.0]|\n",
            "|[0.0,0.0,3.0,18.0,1.0,80.0,157.0,29.0,206.0,1.0,0.0,0.0,4.0,1.0,1.0]   |\n",
            "|[0.0,1.0,47.0,25.0,0.0,138.0,185.0,40.0,160.0,1.0,0.0,1.0,30.0,0.0,0.0]|\n",
            "|[1.0,0.0,72.0,24.0,1.0,136.0,259.0,36.0,192.0,0.0,0.0,0.0,33.0,1.0,0.0]|\n",
            "|(15,[2,3,5,6,7,8,12],[67.0,29.0,134.0,193.0,42.0,192.0,37.0])          |\n",
            "|[0.0,0.0,29.0,23.0,1.0,91.0,195.0,33.0,114.0,1.0,2.0,1.0,24.0,0.0,0.0] |\n",
            "|[0.0,0.0,59.0,28.0,0.0,128.0,191.0,32.0,113.0,1.0,2.0,0.0,24.0,1.0,0.0]|\n",
            "|[0.0,0.0,0.0,19.0,1.0,71.0,126.0,20.0,175.0,0.0,2.0,1.0,1.0,0.0,0.0]   |\n",
            "|[0.0,2.0,45.0,22.0,0.0,116.0,163.0,42.0,136.0,0.0,1.0,0.0,6.0,0.0,1.0] |\n",
            "|[1.0,0.0,53.0,37.0,1.0,128.0,260.0,41.0,200.0,0.0,0.0,1.0,16.0,0.0,0.0]|\n",
            "|[0.0,1.0,36.0,31.0,1.0,106.0,153.0,37.0,132.0,0.0,2.0,1.0,19.0,1.0,1.0]|\n",
            "|[0.0,2.0,1.0,17.0,1.0,67.0,144.0,22.0,168.0,0.0,2.0,0.0,2.0,1.0,0.0]   |\n",
            "|[0.0,2.0,60.0,32.0,0.0,149.0,239.0,48.0,190.0,1.0,1.0,0.0,28.0,1.0,1.0]|\n",
            "|[1.0,0.0,16.0,18.0,1.0,102.0,165.0,30.0,126.0,0.0,1.0,0.0,24.0,1.0,0.0]|\n",
            "|[1.0,0.0,35.0,33.0,0.0,123.0,179.0,30.0,93.0,0.0,1.0,1.0,26.0,0.0,1.0] |\n",
            "|[0.0,2.0,44.0,25.0,0.0,121.0,289.0,43.0,167.0,1.0,0.0,1.0,19.0,0.0,0.0]|\n",
            "|[0.0,0.0,14.0,19.0,0.0,87.0,164.0,26.0,234.0,0.0,2.0,0.0,1.0,1.0,0.0]  |\n",
            "|[0.0,2.0,64.0,29.0,1.0,121.0,276.0,48.0,161.0,1.0,1.0,0.0,29.0,0.0,0.0]|\n",
            "|[1.0,0.0,9.0,23.0,1.0,100.0,142.0,31.0,287.0,1.0,1.0,1.0,2.0,1.0,1.0]  |\n",
            "|[1.0,1.0,29.0,31.0,1.0,125.0,157.0,28.0,170.0,1.0,2.0,0.0,16.0,0.0,1.0]|\n",
            "|[1.0,1.0,65.0,23.0,0.0,140.0,255.0,47.0,198.0,1.0,2.0,0.0,30.0,0.0,1.0]|\n",
            "|[1.0,2.0,34.0,19.0,1.0,90.0,170.0,35.0,146.0,1.0,2.0,0.0,11.0,1.0,0.0] |\n",
            "|[0.0,2.0,51.0,39.0,0.0,148.0,277.0,47.0,156.0,0.0,0.0,0.0,17.0,1.0,0.0]|\n",
            "|[1.0,1.0,11.0,23.0,1.0,102.0,102.0,30.0,178.0,1.0,2.0,0.0,0.0,1.0,0.0] |\n",
            "|[1.0,1.0,51.0,34.0,0.0,122.0,239.0,46.0,137.0,0.0,0.0,0.0,23.0,0.0,1.0]|\n",
            "|[0.0,2.0,0.0,18.0,1.0,79.0,148.0,29.0,131.0,0.0,2.0,1.0,7.0,0.0,1.0]   |\n",
            "|[0.0,2.0,56.0,31.0,0.0,122.0,252.0,46.0,198.0,0.0,2.0,1.0,26.0,0.0,1.0]|\n",
            "|[1.0,1.0,37.0,33.0,0.0,103.0,216.0,34.0,129.0,0.0,2.0,0.0,14.0,0.0,1.0]|\n",
            "|[0.0,0.0,10.0,15.0,1.0,96.0,162.0,31.0,255.0,0.0,1.0,0.0,1.0,1.0,1.0]  |\n",
            "|[0.0,1.0,45.0,25.0,0.0,122.0,200.0,41.0,108.0,1.0,0.0,1.0,9.0,1.0,1.0] |\n",
            "|[1.0,1.0,22.0,22.0,1.0,95.0,159.0,33.0,132.0,0.0,1.0,0.0,7.0,1.0,0.0]  |\n",
            "|[1.0,0.0,34.0,26.0,0.0,102.0,201.0,40.0,132.0,1.0,0.0,1.0,28.0,1.0,1.0]|\n",
            "|[1.0,0.0,70.0,34.0,1.0,125.0,221.0,36.0,181.0,0.0,1.0,0.0,26.0,0.0,0.0]|\n",
            "|[1.0,1.0,33.0,28.0,0.0,112.0,232.0,34.0,106.0,0.0,2.0,1.0,15.0,1.0,1.0]|\n",
            "|[1.0,0.0,50.0,28.0,1.0,120.0,270.0,40.0,248.0,1.0,1.0,0.0,31.0,1.0,1.0]|\n",
            "|[0.0,2.0,62.0,28.0,0.0,135.0,292.0,49.0,166.0,1.0,2.0,1.0,35.0,1.0,1.0]|\n",
            "|[0.0,2.0,40.0,25.0,0.0,142.0,234.0,34.0,172.0,1.0,0.0,1.0,26.0,0.0,0.0]|\n",
            "|[0.0,2.0,28.0,16.0,0.0,102.0,198.0,33.0,103.0,0.0,0.0,1.0,6.0,1.0,1.0] |\n",
            "|[1.0,0.0,30.0,31.0,0.0,100.0,234.0,38.0,133.0,0.0,2.0,1.0,17.0,0.0,0.0]|\n",
            "|[0.0,1.0,35.0,25.0,0.0,121.0,232.0,36.0,115.0,0.0,2.0,1.0,20.0,1.0,0.0]|\n",
            "|[1.0,1.0,10.0,15.0,1.0,103.0,157.0,34.0,245.0,0.0,1.0,0.0,3.0,0.0,0.0] |\n",
            "|[1.0,1.0,12.0,22.0,0.0,106.0,153.0,29.0,106.0,1.0,1.0,0.0,8.0,1.0,0.0] |\n",
            "|[0.0,1.0,38.0,21.0,0.0,101.0,197.0,41.0,127.0,0.0,0.0,0.0,12.0,1.0,1.0]|\n",
            "|[1.0,0.0,19.0,23.0,1.0,102.0,176.0,30.0,111.0,1.0,2.0,0.0,13.0,1.0,0.0]|\n",
            "|[0.0,1.0,67.0,33.0,1.0,111.0,264.0,47.0,150.0,0.0,1.0,1.0,28.0,1.0,0.0]|\n",
            "|[0.0,0.0,34.0,29.0,1.0,92.0,160.0,29.0,129.0,1.0,0.0,0.0,14.0,0.0,1.0] |\n",
            "|[1.0,1.0,39.0,27.0,1.0,115.0,201.0,36.0,112.0,0.0,2.0,1.0,25.0,1.0,1.0]|\n",
            "|[1.0,1.0,41.0,26.0,0.0,133.0,190.0,38.0,223.0,1.0,2.0,1.0,27.0,1.0,1.0]|\n",
            "|[1.0,0.0,3.0,22.0,0.0,100.0,173.0,26.0,219.0,0.0,2.0,0.0,1.0,1.0,1.0]  |\n",
            "|[0.0,0.0,46.0,25.0,0.0,125.0,223.0,38.0,120.0,0.0,2.0,1.0,15.0,1.0,0.0]|\n",
            "|[0.0,1.0,39.0,25.0,0.0,109.0,201.0,40.0,114.0,0.0,1.0,1.0,23.0,1.0,1.0]|\n",
            "|[1.0,1.0,43.0,28.0,0.0,127.0,229.0,36.0,188.0,0.0,0.0,0.0,37.0,1.0,1.0]|\n",
            "|[1.0,1.0,50.0,27.0,0.0,133.0,259.0,41.0,239.0,1.0,2.0,0.0,34.0,1.0,1.0]|\n",
            "|[1.0,1.0,43.0,25.0,0.0,124.0,211.0,30.0,123.0,1.0,1.0,0.0,7.0,0.0,0.0] |\n",
            "|[0.0,2.0,77.0,27.0,1.0,135.0,299.0,44.0,181.0,0.0,2.0,0.0,38.0,0.0,1.0]|\n",
            "|[1.0,1.0,33.0,35.0,1.0,137.0,222.0,48.0,221.0,1.0,1.0,0.0,21.0,0.0,0.0]|\n",
            "|[1.0,1.0,73.0,26.0,1.0,146.0,286.0,43.0,239.0,0.0,2.0,1.0,28.0,0.0,1.0]|\n",
            "|[0.0,1.0,51.0,21.0,0.0,146.0,294.0,48.0,240.0,1.0,2.0,0.0,25.0,1.0,1.0]|\n",
            "|[1.0,0.0,32.0,27.0,1.0,114.0,178.0,31.0,105.0,1.0,1.0,0.0,15.0,1.0,0.0]|\n",
            "|[1.0,2.0,28.0,24.0,1.0,92.0,180.0,33.0,129.0,1.0,1.0,0.0,15.0,0.0,1.0] |\n",
            "|[1.0,1.0,1.0,16.0,0.0,60.0,173.0,27.0,185.0,0.0,0.0,0.0,5.0,1.0,0.0]   |\n",
            "|[1.0,2.0,5.0,24.0,1.0,104.0,162.0,30.0,113.0,0.0,1.0,0.0,12.0,1.0,1.0] |\n",
            "|[0.0,1.0,22.0,31.0,0.0,102.0,152.0,35.0,154.0,1.0,0.0,0.0,15.0,1.0,0.0]|\n",
            "|[0.0,0.0,28.0,27.0,0.0,128.0,198.0,31.0,97.0,1.0,2.0,1.0,18.0,0.0,0.0] |\n",
            "|[1.0,1.0,30.0,22.0,0.0,101.0,181.0,38.0,120.0,1.0,1.0,1.0,5.0,1.0,1.0] |\n",
            "|[1.0,0.0,49.0,29.0,0.0,136.0,263.0,38.0,233.0,1.0,0.0,1.0,20.0,1.0,1.0]|\n",
            "|(15,[2,3,5,6,7,8,11,13],[9.0,23.0,105.0,141.0,26.0,201.0,1.0,1.0])     |\n",
            "|[0.0,1.0,28.0,16.0,1.0,103.0,168.0,30.0,148.0,0.0,2.0,1.0,15.0,1.0,1.0]|\n",
            "|[0.0,0.0,26.0,27.0,1.0,104.0,152.0,33.0,93.0,0.0,2.0,0.0,14.0,1.0,1.0] |\n",
            "|[0.0,1.0,52.0,24.0,0.0,115.0,213.0,43.0,163.0,1.0,0.0,0.0,18.0,1.0,0.0]|\n",
            "|[0.0,2.0,21.0,32.0,1.0,109.0,218.0,39.0,163.0,1.0,2.0,0.0,14.0,1.0,0.0]|\n",
            "|[1.0,0.0,1.0,14.0,1.0,63.0,171.0,27.0,138.0,1.0,1.0,1.0,3.0,0.0,1.0]   |\n",
            "|[0.0,1.0,30.0,20.0,0.0,110.0,216.0,36.0,153.0,0.0,2.0,0.0,18.0,0.0,0.0]|\n",
            "|[0.0,0.0,52.0,31.0,1.0,144.0,188.0,48.0,157.0,0.0,0.0,0.0,24.0,1.0,0.0]|\n",
            "|[1.0,1.0,28.0,25.0,0.0,123.0,210.0,31.0,160.0,1.0,1.0,0.0,21.0,1.0,1.0]|\n",
            "|[0.0,1.0,1.0,19.0,0.0,69.0,129.0,21.0,152.0,1.0,0.0,1.0,5.0,1.0,1.0]   |\n",
            "|[1.0,0.0,1.0,12.0,1.0,69.0,133.0,24.0,145.0,1.0,2.0,0.0,6.0,1.0,0.0]   |\n",
            "|[0.0,1.0,54.0,27.0,1.0,147.0,212.0,36.0,212.0,0.0,1.0,1.0,25.0,0.0,0.0]|\n",
            "|[1.0,1.0,40.0,33.0,0.0,117.0,293.0,34.0,164.0,1.0,1.0,1.0,22.0,1.0,0.0]|\n",
            "|[0.0,1.0,0.0,12.0,0.0,75.0,134.0,25.0,122.0,1.0,0.0,1.0,8.0,0.0,0.0]   |\n",
            "|[1.0,2.0,1.0,14.0,1.0,73.0,132.0,21.0,191.0,1.0,2.0,1.0,0.0,0.0,1.0]   |\n",
            "|[1.0,0.0,18.0,28.0,0.0,121.0,197.0,37.0,168.0,1.0,2.0,0.0,23.0,0.0,0.0]|\n",
            "|[1.0,2.0,0.0,15.0,0.0,74.0,143.0,25.0,146.0,1.0,0.0,1.0,1.0,1.0,0.0]   |\n",
            "|[0.0,0.0,49.0,28.0,1.0,149.0,186.0,35.0,163.0,1.0,0.0,1.0,21.0,0.0,0.0]|\n",
            "|[0.0,0.0,18.0,24.0,0.0,101.0,146.0,29.0,200.0,1.0,1.0,1.0,1.0,0.0,1.0] |\n",
            "|[0.0,1.0,42.0,25.0,0.0,121.0,203.0,30.0,104.0,1.0,1.0,0.0,12.0,0.0,1.0]|\n",
            "|[0.0,0.0,31.0,28.0,0.0,121.0,219.0,40.0,115.0,1.0,1.0,1.0,26.0,0.0,0.0]|\n",
            "|[0.0,1.0,1.0,20.0,1.0,103.0,178.0,33.0,195.0,1.0,1.0,0.0,0.0,0.0,1.0]  |\n",
            "|[1.0,2.0,18.0,25.0,0.0,93.0,189.0,32.0,130.0,0.0,2.0,1.0,12.0,1.0,1.0] |\n",
            "|[0.0,1.0,0.0,17.0,1.0,72.0,131.0,23.0,163.0,0.0,2.0,0.0,5.0,1.0,1.0]   |\n",
            "|[0.0,2.0,18.0,22.0,1.0,109.0,181.0,29.0,96.0,1.0,0.0,0.0,19.0,1.0,0.0] |\n",
            "|[1.0,2.0,60.0,27.0,1.0,143.0,268.0,52.0,244.0,1.0,0.0,0.0,16.0,0.0,1.0]|\n",
            "|[1.0,1.0,7.0,19.0,1.0,91.0,192.0,32.0,100.0,0.0,1.0,1.0,10.0,0.0,0.0]  |\n",
            "|[1.0,0.0,5.0,16.0,0.0,92.0,127.0,30.0,219.0,1.0,0.0,0.0,1.0,0.0,1.0]   |\n",
            "+-----------------------------------------------------------------------+\n",
            "only showing top 100 rows\n",
            "\n"
          ]
        }
      ]
    },
    {
      "cell_type": "code",
      "source": [
        "df_spark_features.show()\n",
        "\n",
        "\"\"\"\n",
        "a la hora de indexar quitar 0 (Sugerencia de Caro)\n",
        "\"\"\""
      ],
      "metadata": {
        "colab": {
          "base_uri": "https://localhost:8080/",
          "height": 507
        },
        "id": "Eoje59S83_4K",
        "outputId": "9d22a150-2b54-4b4f-803c-4e0cd9f51a14"
      },
      "execution_count": 17,
      "outputs": [
        {
          "output_type": "stream",
          "name": "stdout",
          "text": [
            "+--------------------+--------------+-----------------+---+---+--------------+--------------+------------------+-------------------+--------------------+--------------+-------------------+-----------------+----------------------------+-------------------------+-----------------------------+--------------------+\n",
            "|              Target|Family History|Physical Activity|Age|BMI|Dietary Habits|Blood Pressure|Cholesterol Levels|Waist Circumference|Blood Glucose Levels|Smoking Status|Alcohol Consumption|Pregnancy History|Weight Gain During Pregnancy|Cystic Fibrosis Diagnosis|Previous Gestational Diabetes|            features|\n",
            "+--------------------+--------------+-----------------+---+---+--------------+--------------+------------------+-------------------+--------------------+--------------+-------------------+-----------------+----------------------------+-------------------------+-----------------------------+--------------------+\n",
            "|Steroid-Induced D...|             0|                1| 44| 38|             0|           124|               201|                 50|                 168|             1|                  1|                0|                          18|                        0|                            0|[0.0,1.0,44.0,38....|\n",
            "|Neonatal Diabetes...|             0|                1|  1| 17|             0|            73|               121|                 24|                 178|             0|                  2|                0|                           8|                        1|                            0|[0.0,1.0,1.0,17.0...|\n",
            "|         Prediabetic|             1|                1| 36| 24|             1|           121|               185|                 36|                 105|             1|                  1|                0|                          15|                        1|                            0|[1.0,1.0,36.0,24....|\n",
            "|     Type 1 Diabetes|             0|                0|  7| 16|             1|           100|               151|                 29|                 121|             1|                  2|                0|                          12|                        1|                            1|[0.0,0.0,7.0,16.0...|\n",
            "|    Wolfram Syndrome|             1|                1| 10| 17|             0|           103|               146|                 33|                 289|             1|                  2|                1|                           2|                        0|                            1|[1.0,1.0,10.0,17....|\n",
            "|                LADA|             1|                2| 41| 26|             0|           127|               208|                 32|                 142|             0|                  0|                0|                          11|                        1|                            0|[1.0,2.0,41.0,26....|\n",
            "|     Type 2 Diabetes|             0|                2| 30| 31|             0|           115|               237|                 43|                 186|             0|                  0|                0|                          15|                        1|                            1|[0.0,2.0,30.0,31....|\n",
            "|Wolcott-Rallison ...|             0|                0|  3| 18|             1|            80|               157|                 29|                 206|             1|                  0|                0|                           4|                        1|                            1|[0.0,0.0,3.0,18.0...|\n",
            "|  Secondary Diabetes|             0|                1| 47| 25|             0|           138|               185|                 40|                 160|             1|                  0|                1|                          30|                        0|                            0|[0.0,1.0,47.0,25....|\n",
            "|  Secondary Diabetes|             1|                0| 72| 24|             1|           136|               259|                 36|                 192|             0|                  0|                0|                          33|                        1|                            0|[1.0,0.0,72.0,24....|\n",
            "|  Secondary Diabetes|             0|                0| 67| 29|             0|           134|               193|                 42|                 192|             0|                  0|                0|                          37|                        0|                            0|(15,[2,3,5,6,7,8,...|\n",
            "|     Type 1 Diabetes|             0|                0| 29| 23|             1|            91|               195|                 33|                 114|             1|                  2|                1|                          24|                        0|                            0|[0.0,0.0,29.0,23....|\n",
            "|         Prediabetic|             0|                0| 59| 28|             0|           128|               191|                 32|                 113|             1|                  2|                0|                          24|                        1|                            0|[0.0,0.0,59.0,28....|\n",
            "|Neonatal Diabetes...|             0|                0|  0| 19|             1|            71|               126|                 20|                 175|             0|                  2|                1|                           1|                        0|                            0|[0.0,0.0,0.0,19.0...|\n",
            "|                LADA|             0|                2| 45| 22|             0|           116|               163|                 42|                 136|             0|                  1|                0|                           6|                        0|                            1|[0.0,2.0,45.0,22....|\n",
            "|Steroid-Induced D...|             1|                0| 53| 37|             1|           128|               260|                 41|                 200|             0|                  0|                1|                          16|                        0|                            0|[1.0,0.0,53.0,37....|\n",
            "|                LADA|             0|                1| 36| 31|             1|           106|               153|                 37|                 132|             0|                  2|                1|                          19|                        1|                            1|[0.0,1.0,36.0,31....|\n",
            "|Neonatal Diabetes...|             0|                2|  1| 17|             1|            67|               144|                 22|                 168|             0|                  2|                0|                           2|                        1|                            0|[0.0,2.0,1.0,17.0...|\n",
            "|Type 3c Diabetes ...|             0|                2| 60| 32|             0|           149|               239|                 48|                 190|             1|                  1|                0|                          28|                        1|                            1|[0.0,2.0,60.0,32....|\n",
            "|     Type 1 Diabetes|             1|                0| 16| 18|             1|           102|               165|                 30|                 126|             0|                  1|                0|                          24|                        1|                            0|[1.0,0.0,16.0,18....|\n",
            "+--------------------+--------------+-----------------+---+---+--------------+--------------+------------------+-------------------+--------------------+--------------+-------------------+-----------------+----------------------------+-------------------------+-----------------------------+--------------------+\n",
            "only showing top 20 rows\n",
            "\n"
          ]
        },
        {
          "output_type": "execute_result",
          "data": {
            "text/plain": [
              "'\\na la hora de indexar quitar 0 (Sugerencia de Caro)\\n'"
            ],
            "application/vnd.google.colaboratory.intrinsic+json": {
              "type": "string"
            }
          },
          "metadata": {},
          "execution_count": 17
        }
      ]
    },
    {
      "cell_type": "code",
      "source": [
        "from pyspark.ml.feature import StringIndexer, VectorAssembler\n",
        "from pyspark.ml.classification import DecisionTreeClassifier\n",
        "from pyspark.ml.evaluation import MulticlassClassificationEvaluator\n",
        "from pyspark.sql.functions import when, isnull, col\n",
        "\n",
        "# Split\n",
        "train_data, test_data = df_spark_features.randomSplit([0.7, 0.3])\n",
        "\n",
        "# Moda para valores nulos\n",
        "mode_target = train_data.groupBy('Target').count().orderBy('count', ascending=False).first()['Target']\n",
        "\n",
        "# Valores nulos de variable Target\n",
        "train_data = train_data.withColumn('Target', when(isnull('Target') | (col('Target').isNull()), mode_target).otherwise(train_data['Target']))\n",
        "test_data = test_data.withColumn('Target', when(isnull('Target') | (col('Target').isNull()), mode_target).otherwise(test_data['Target']))\n",
        "\n",
        "# Otros nulos\n",
        "train_data = train_data.filter(col('Target').isNotNull())\n",
        "test_data = test_data.filter(col('Target').isNotNull())\n",
        "\n",
        "# Index de Target\n",
        "indexer = StringIndexer(inputCol=\"Target\", outputCol=\"indexedTarget\")\n",
        "train_data = indexer.fit(train_data).transform(train_data)\n",
        "test_data = indexer.fit(test_data).transform(test_data)\n",
        "\n",
        "#  features\n",
        "assembler = VectorAssembler(inputCols=[\"features\"], outputCol=\"assembled_features\")\n",
        "train_data = assembler.transform(train_data)\n",
        "test_data = assembler.transform(test_data)\n",
        "\n",
        "# modelo\n",
        "dt = DecisionTreeClassifier(featuresCol='assembled_features', labelCol='indexedTarget')\n",
        "\n",
        "# ajuste de modelo\n",
        "model = dt.fit(train_data)\n",
        "predictions = model.transform(test_data)\n",
        "\n",
        "# Acuraccy\n",
        "evaluator = MulticlassClassificationEvaluator(labelCol='indexedTarget', predictionCol='prediction', metricName='accuracy')\n",
        "accuracy = evaluator.evaluate(predictions)\n",
        "\n",
        "# Print the accuracy of the model\n",
        "print(f\"Model accuracy: {accuracy * 100:.2f}\")\n",
        "\n",
        "\n",
        "#Proximos pasos\n",
        "#Feature importance\n",
        "#Cross validation\n",
        "#Exploracion de posibles errores\n",
        "\n",
        "\n",
        "\n",
        "\n"
      ],
      "metadata": {
        "colab": {
          "base_uri": "https://localhost:8080/"
        },
        "id": "-rOEIj6bxqOk",
        "outputId": "343d436d-9b74-4faf-c8d2-743fa82f2a5d"
      },
      "execution_count": 18,
      "outputs": [
        {
          "output_type": "stream",
          "name": "stdout",
          "text": [
            "Model accuracy: 0.01\n"
          ]
        }
      ]
    },
    {
      "cell_type": "code",
      "source": [
        "model_path = \"/content/decision_tree_model\"\n",
        "model.save(model_path)\n",
        "print(f\"Modelo guardado en: {model_path}\")\n"
      ],
      "metadata": {
        "colab": {
          "base_uri": "https://localhost:8080/"
        },
        "id": "MT5yqnZC1MHX",
        "outputId": "47eb1d6b-cdac-4f66-b24a-aa9dabc08335"
      },
      "execution_count": 19,
      "outputs": [
        {
          "output_type": "stream",
          "name": "stdout",
          "text": [
            "Modelo guardado en: /content/decision_tree_model\n"
          ]
        }
      ]
    },
    {
      "cell_type": "code",
      "source": [
        "!zip -r decision_tree_model.zip /content/decision_tree_model\n"
      ],
      "metadata": {
        "colab": {
          "base_uri": "https://localhost:8080/"
        },
        "id": "qEGE3kp41XYK",
        "outputId": "e426ae9e-fa14-4902-89b2-3281fbe3e78c"
      },
      "execution_count": 20,
      "outputs": [
        {
          "output_type": "stream",
          "name": "stdout",
          "text": [
            "  adding: content/decision_tree_model/ (stored 0%)\n",
            "  adding: content/decision_tree_model/metadata/ (stored 0%)\n",
            "  adding: content/decision_tree_model/metadata/.part-00000.crc (stored 0%)\n",
            "  adding: content/decision_tree_model/metadata/part-00000 (deflated 43%)\n",
            "  adding: content/decision_tree_model/metadata/._SUCCESS.crc (stored 0%)\n",
            "  adding: content/decision_tree_model/metadata/_SUCCESS (stored 0%)\n",
            "  adding: content/decision_tree_model/data/ (stored 0%)\n",
            "  adding: content/decision_tree_model/data/._SUCCESS.crc (stored 0%)\n",
            "  adding: content/decision_tree_model/data/.part-00000-eb582a9a-d175-4cf1-9508-2b1f3018c3e2-c000.snappy.parquet.crc (stored 0%)\n",
            "  adding: content/decision_tree_model/data/_SUCCESS (stored 0%)\n",
            "  adding: content/decision_tree_model/data/part-00000-eb582a9a-d175-4cf1-9508-2b1f3018c3e2-c000.snappy.parquet (deflated 47%)\n"
          ]
        }
      ]
    },
    {
      "cell_type": "code",
      "source": [
        "from google.colab import files\n",
        "files.download(\"decision_tree_model.zip\")\n"
      ],
      "metadata": {
        "colab": {
          "base_uri": "https://localhost:8080/",
          "height": 17
        },
        "id": "UvIgu_761Zyg",
        "outputId": "baa2a2e4-5125-4d76-e78e-67754143989d"
      },
      "execution_count": 21,
      "outputs": [
        {
          "output_type": "display_data",
          "data": {
            "text/plain": [
              "<IPython.core.display.Javascript object>"
            ],
            "application/javascript": [
              "\n",
              "    async function download(id, filename, size) {\n",
              "      if (!google.colab.kernel.accessAllowed) {\n",
              "        return;\n",
              "      }\n",
              "      const div = document.createElement('div');\n",
              "      const label = document.createElement('label');\n",
              "      label.textContent = `Downloading \"${filename}\": `;\n",
              "      div.appendChild(label);\n",
              "      const progress = document.createElement('progress');\n",
              "      progress.max = size;\n",
              "      div.appendChild(progress);\n",
              "      document.body.appendChild(div);\n",
              "\n",
              "      const buffers = [];\n",
              "      let downloaded = 0;\n",
              "\n",
              "      const channel = await google.colab.kernel.comms.open(id);\n",
              "      // Send a message to notify the kernel that we're ready.\n",
              "      channel.send({})\n",
              "\n",
              "      for await (const message of channel.messages) {\n",
              "        // Send a message to notify the kernel that we're ready.\n",
              "        channel.send({})\n",
              "        if (message.buffers) {\n",
              "          for (const buffer of message.buffers) {\n",
              "            buffers.push(buffer);\n",
              "            downloaded += buffer.byteLength;\n",
              "            progress.value = downloaded;\n",
              "          }\n",
              "        }\n",
              "      }\n",
              "      const blob = new Blob(buffers, {type: 'application/binary'});\n",
              "      const a = document.createElement('a');\n",
              "      a.href = window.URL.createObjectURL(blob);\n",
              "      a.download = filename;\n",
              "      div.appendChild(a);\n",
              "      a.click();\n",
              "      div.remove();\n",
              "    }\n",
              "  "
            ]
          },
          "metadata": {}
        },
        {
          "output_type": "display_data",
          "data": {
            "text/plain": [
              "<IPython.core.display.Javascript object>"
            ],
            "application/javascript": [
              "download(\"download_c14e44a4-88ad-4d20-bde2-43d74441d979\", \"decision_tree_model.zip\", 5904)"
            ]
          },
          "metadata": {}
        }
      ]
    },
    {
      "cell_type": "code",
      "source": [
        "train_targets = train_data.select(\"Target\").distinct().count()\n",
        "train_targets"
      ],
      "metadata": {
        "colab": {
          "base_uri": "https://localhost:8080/"
        },
        "id": "NNy4WMu8M090",
        "outputId": "a9efbf48-a676-450a-ee8b-efcd1c7e8875"
      },
      "execution_count": 22,
      "outputs": [
        {
          "output_type": "execute_result",
          "data": {
            "text/plain": [
              "13"
            ]
          },
          "metadata": {},
          "execution_count": 22
        }
      ]
    },
    {
      "cell_type": "code",
      "source": [
        "# Obtener valores únicos de targets\n",
        "unique_targets = train_data.select(\"Target\").distinct().rdd.flatMap(lambda x: x).collect()\n",
        "print(f\"Valores únicos de los targets: {unique_targets}\")\n"
      ],
      "metadata": {
        "colab": {
          "base_uri": "https://localhost:8080/"
        },
        "id": "f3bh75KQN86N",
        "outputId": "9512b341-3335-4c2f-b13f-94b9d1bc8a2c"
      },
      "execution_count": 23,
      "outputs": [
        {
          "output_type": "stream",
          "name": "stdout",
          "text": [
            "Valores únicos de los targets: ['Type 2 Diabetes', 'Type 3c Diabetes (Pancreatogenic Diabetes)', 'Gestational Diabetes', 'Wolcott-Rallison Syndrome', 'Cystic Fibrosis-Related Diabetes (CFRD)', 'Neonatal Diabetes Mellitus (NDM)', 'MODY', 'LADA', 'Type 1 Diabetes', 'Prediabetic', 'Secondary Diabetes', 'Wolfram Syndrome', 'Steroid-Induced Diabetes']\n"
          ]
        }
      ]
    },
    {
      "cell_type": "code",
      "source": [
        "# Contar targets únicos en las predicciones\n",
        "predicted_classes = predictions.select(\"prediction\").distinct().count()\n",
        "print(f\"Cantidad de clases predichas: {predicted_classes}\")\n",
        "\n",
        "# Valores únicos de las clases predichas\n",
        "unique_predicted_classes = predictions.select(\"prediction\").distinct().rdd.flatMap(lambda x: x).collect()\n",
        "print(f\"Clases predichas únicas: {unique_predicted_classes}\")\n"
      ],
      "metadata": {
        "colab": {
          "base_uri": "https://localhost:8080/"
        },
        "id": "XjL4dV9JOEVk",
        "outputId": "178a8b73-5500-47b0-f35a-3815b3d10918"
      },
      "execution_count": 24,
      "outputs": [
        {
          "output_type": "stream",
          "name": "stdout",
          "text": [
            "Cantidad de clases predichas: 9\n",
            "Clases predichas únicas: [0.0, 7.0, 1.0, 11.0, 3.0, 2.0, 6.0, 9.0, 12.0]\n"
          ]
        }
      ]
    },
    {
      "cell_type": "code",
      "source": [
        "# Mostrar target real e índice predicho para las primeras filas\n",
        "predictions.select(\"Target\", \"indexedTarget\", \"prediction\").show(10)\n"
      ],
      "metadata": {
        "colab": {
          "base_uri": "https://localhost:8080/"
        },
        "id": "Q7I22nRLOJ8f",
        "outputId": "4dcf3c7c-9390-4d16-de71-24f3b97da5fb"
      },
      "execution_count": 25,
      "outputs": [
        {
          "output_type": "stream",
          "name": "stdout",
          "text": [
            "+--------------------+-------------+----------+\n",
            "|              Target|indexedTarget|prediction|\n",
            "+--------------------+-------------+----------+\n",
            "|Cystic Fibrosis-R...|          8.0|       0.0|\n",
            "|Cystic Fibrosis-R...|          8.0|       0.0|\n",
            "|Cystic Fibrosis-R...|          8.0|       0.0|\n",
            "|Cystic Fibrosis-R...|          8.0|       2.0|\n",
            "|Cystic Fibrosis-R...|          8.0|       1.0|\n",
            "|Cystic Fibrosis-R...|          8.0|       0.0|\n",
            "|Cystic Fibrosis-R...|          8.0|       0.0|\n",
            "|Cystic Fibrosis-R...|          8.0|       0.0|\n",
            "|Cystic Fibrosis-R...|          8.0|       0.0|\n",
            "|Cystic Fibrosis-R...|          8.0|       1.0|\n",
            "+--------------------+-------------+----------+\n",
            "only showing top 10 rows\n",
            "\n"
          ]
        }
      ]
    }
  ]
}